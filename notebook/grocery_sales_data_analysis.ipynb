{
 "cells": [
  {
   "cell_type": "markdown",
   "id": "e6bd69f2",
   "metadata": {},
   "source": [
    "# Grocery Stroe Sales Analysis\n",
    "## Objectives\n",
    "\n"
   ]
  },
  {
   "cell_type": "code",
   "execution_count": 66,
   "id": "048c011c",
   "metadata": {},
   "outputs": [],
   "source": [
    "import pandas as pd\n",
    "import numpy as nmp\n",
    "\n",
    "import matplotlib.pyplot as plt\n",
    "plt.style.use('ggplot')"
   ]
  },
  {
   "cell_type": "code",
   "execution_count": 209,
   "id": "ae35b1d2-d14f-4201-b48e-f1b60d22a09a",
   "metadata": {},
   "outputs": [],
   "source": [
    "transactions =  pd.read_parquet(\"../data/grocery-transactions.parquet\")\n",
    "demographics = pd.read_csv(\"../data/hh_demographics.csv\")\n",
    "products = pd.read_csv(\"../data/products.csv\")"
   ]
  },
  {
   "cell_type": "code",
   "execution_count": 210,
   "id": "20749686",
   "metadata": {},
   "outputs": [
    {
     "data": {
      "text/html": [
       "<div>\n",
       "<style scoped>\n",
       "    .dataframe tbody tr th:only-of-type {\n",
       "        vertical-align: middle;\n",
       "    }\n",
       "\n",
       "    .dataframe tbody tr th {\n",
       "        vertical-align: top;\n",
       "    }\n",
       "\n",
       "    .dataframe thead th {\n",
       "        text-align: right;\n",
       "    }\n",
       "</style>\n",
       "<table border=\"1\" class=\"dataframe\">\n",
       "  <thead>\n",
       "    <tr style=\"text-align: right;\">\n",
       "      <th></th>\n",
       "      <th>household_key</th>\n",
       "      <th>basket_id</th>\n",
       "      <th>day</th>\n",
       "      <th>product_id</th>\n",
       "      <th>quantity</th>\n",
       "      <th>sales_value</th>\n",
       "      <th>store_id</th>\n",
       "      <th>retail_disc</th>\n",
       "      <th>week_no</th>\n",
       "      <th>coupon_disc</th>\n",
       "      <th>coupon_match_disc</th>\n",
       "    </tr>\n",
       "  </thead>\n",
       "  <tbody>\n",
       "    <tr>\n",
       "      <th>0</th>\n",
       "      <td>1364</td>\n",
       "      <td>26984896261</td>\n",
       "      <td>1</td>\n",
       "      <td>842930</td>\n",
       "      <td>1</td>\n",
       "      <td>2.19</td>\n",
       "      <td>31742</td>\n",
       "      <td>0.00</td>\n",
       "      <td>1</td>\n",
       "      <td>0.0</td>\n",
       "      <td>0.0</td>\n",
       "    </tr>\n",
       "    <tr>\n",
       "      <th>1</th>\n",
       "      <td>1364</td>\n",
       "      <td>26984896261</td>\n",
       "      <td>1</td>\n",
       "      <td>897044</td>\n",
       "      <td>1</td>\n",
       "      <td>2.99</td>\n",
       "      <td>31742</td>\n",
       "      <td>-0.40</td>\n",
       "      <td>1</td>\n",
       "      <td>0.0</td>\n",
       "      <td>0.0</td>\n",
       "    </tr>\n",
       "    <tr>\n",
       "      <th>2</th>\n",
       "      <td>1364</td>\n",
       "      <td>26984896261</td>\n",
       "      <td>1</td>\n",
       "      <td>920955</td>\n",
       "      <td>1</td>\n",
       "      <td>3.09</td>\n",
       "      <td>31742</td>\n",
       "      <td>0.00</td>\n",
       "      <td>1</td>\n",
       "      <td>0.0</td>\n",
       "      <td>0.0</td>\n",
       "    </tr>\n",
       "    <tr>\n",
       "      <th>3</th>\n",
       "      <td>1364</td>\n",
       "      <td>26984896261</td>\n",
       "      <td>1</td>\n",
       "      <td>937406</td>\n",
       "      <td>1</td>\n",
       "      <td>2.50</td>\n",
       "      <td>31742</td>\n",
       "      <td>-0.99</td>\n",
       "      <td>1</td>\n",
       "      <td>0.0</td>\n",
       "      <td>0.0</td>\n",
       "    </tr>\n",
       "    <tr>\n",
       "      <th>4</th>\n",
       "      <td>1364</td>\n",
       "      <td>26984896261</td>\n",
       "      <td>1</td>\n",
       "      <td>981760</td>\n",
       "      <td>1</td>\n",
       "      <td>0.60</td>\n",
       "      <td>31742</td>\n",
       "      <td>-0.79</td>\n",
       "      <td>1</td>\n",
       "      <td>0.0</td>\n",
       "      <td>0.0</td>\n",
       "    </tr>\n",
       "  </tbody>\n",
       "</table>\n",
       "</div>"
      ],
      "text/plain": [
       "   household_key    basket_id  day  product_id  quantity  sales_value  \\\n",
       "0           1364  26984896261    1      842930         1         2.19   \n",
       "1           1364  26984896261    1      897044         1         2.99   \n",
       "2           1364  26984896261    1      920955         1         3.09   \n",
       "3           1364  26984896261    1      937406         1         2.50   \n",
       "4           1364  26984896261    1      981760         1         0.60   \n",
       "\n",
       "   store_id  retail_disc  week_no  coupon_disc  coupon_match_disc  \n",
       "0     31742         0.00        1          0.0                0.0  \n",
       "1     31742        -0.40        1          0.0                0.0  \n",
       "2     31742         0.00        1          0.0                0.0  \n",
       "3     31742        -0.99        1          0.0                0.0  \n",
       "4     31742        -0.79        1          0.0                0.0  "
      ]
     },
     "metadata": {},
     "output_type": "display_data"
    },
    {
     "data": {
      "text/html": [
       "<div>\n",
       "<style scoped>\n",
       "    .dataframe tbody tr th:only-of-type {\n",
       "        vertical-align: middle;\n",
       "    }\n",
       "\n",
       "    .dataframe tbody tr th {\n",
       "        vertical-align: top;\n",
       "    }\n",
       "\n",
       "    .dataframe thead th {\n",
       "        text-align: right;\n",
       "    }\n",
       "</style>\n",
       "<table border=\"1\" class=\"dataframe\">\n",
       "  <thead>\n",
       "    <tr style=\"text-align: right;\">\n",
       "      <th></th>\n",
       "      <th>product_id</th>\n",
       "      <th>manufacturer</th>\n",
       "      <th>department</th>\n",
       "      <th>brand</th>\n",
       "      <th>commodity_desc</th>\n",
       "      <th>sub_commodity_desc</th>\n",
       "      <th>curr_size_of_product</th>\n",
       "    </tr>\n",
       "  </thead>\n",
       "  <tbody>\n",
       "    <tr>\n",
       "      <th>0</th>\n",
       "      <td>25671</td>\n",
       "      <td>2</td>\n",
       "      <td>GROCERY</td>\n",
       "      <td>National</td>\n",
       "      <td>FRZN ICE</td>\n",
       "      <td>ICE - CRUSHED/CUBED</td>\n",
       "      <td>22 LB</td>\n",
       "    </tr>\n",
       "    <tr>\n",
       "      <th>1</th>\n",
       "      <td>26081</td>\n",
       "      <td>2</td>\n",
       "      <td>MISC. TRANS.</td>\n",
       "      <td>National</td>\n",
       "      <td>NO COMMODITY DESCRIPTION</td>\n",
       "      <td>NO SUBCOMMODITY DESCRIPTION</td>\n",
       "      <td></td>\n",
       "    </tr>\n",
       "    <tr>\n",
       "      <th>2</th>\n",
       "      <td>26093</td>\n",
       "      <td>69</td>\n",
       "      <td>PASTRY</td>\n",
       "      <td>Private</td>\n",
       "      <td>BREAD</td>\n",
       "      <td>BREAD:ITALIAN/FRENCH</td>\n",
       "      <td></td>\n",
       "    </tr>\n",
       "    <tr>\n",
       "      <th>3</th>\n",
       "      <td>26190</td>\n",
       "      <td>69</td>\n",
       "      <td>GROCERY</td>\n",
       "      <td>Private</td>\n",
       "      <td>FRUIT - SHELF STABLE</td>\n",
       "      <td>APPLE SAUCE</td>\n",
       "      <td>50 OZ</td>\n",
       "    </tr>\n",
       "    <tr>\n",
       "      <th>4</th>\n",
       "      <td>26355</td>\n",
       "      <td>69</td>\n",
       "      <td>GROCERY</td>\n",
       "      <td>Private</td>\n",
       "      <td>COOKIES/CONES</td>\n",
       "      <td>SPECIALTY COOKIES</td>\n",
       "      <td>14 OZ</td>\n",
       "    </tr>\n",
       "  </tbody>\n",
       "</table>\n",
       "</div>"
      ],
      "text/plain": [
       "   product_id  manufacturer    department     brand            commodity_desc  \\\n",
       "0       25671             2       GROCERY  National                  FRZN ICE   \n",
       "1       26081             2  MISC. TRANS.  National  NO COMMODITY DESCRIPTION   \n",
       "2       26093            69        PASTRY   Private                     BREAD   \n",
       "3       26190            69       GROCERY   Private      FRUIT - SHELF STABLE   \n",
       "4       26355            69       GROCERY   Private             COOKIES/CONES   \n",
       "\n",
       "            sub_commodity_desc curr_size_of_product  \n",
       "0          ICE - CRUSHED/CUBED                22 LB  \n",
       "1  NO SUBCOMMODITY DESCRIPTION                       \n",
       "2         BREAD:ITALIAN/FRENCH                       \n",
       "3                  APPLE SAUCE                50 OZ  \n",
       "4            SPECIALTY COOKIES                14 OZ  "
      ]
     },
     "metadata": {},
     "output_type": "display_data"
    },
    {
     "data": {
      "text/html": [
       "<div>\n",
       "<style scoped>\n",
       "    .dataframe tbody tr th:only-of-type {\n",
       "        vertical-align: middle;\n",
       "    }\n",
       "\n",
       "    .dataframe tbody tr th {\n",
       "        vertical-align: top;\n",
       "    }\n",
       "\n",
       "    .dataframe thead th {\n",
       "        text-align: right;\n",
       "    }\n",
       "</style>\n",
       "<table border=\"1\" class=\"dataframe\">\n",
       "  <thead>\n",
       "    <tr style=\"text-align: right;\">\n",
       "      <th></th>\n",
       "      <th>age_desc</th>\n",
       "      <th>marital_status_code</th>\n",
       "      <th>income_desc</th>\n",
       "      <th>homeowner_desc</th>\n",
       "      <th>hh_comp_desc</th>\n",
       "      <th>household_size_desc</th>\n",
       "      <th>kid_category_desc</th>\n",
       "      <th>household_key</th>\n",
       "    </tr>\n",
       "  </thead>\n",
       "  <tbody>\n",
       "    <tr>\n",
       "      <th>0</th>\n",
       "      <td>65+</td>\n",
       "      <td>A</td>\n",
       "      <td>35-49K</td>\n",
       "      <td>Homeowner</td>\n",
       "      <td>2 Adults No Kids</td>\n",
       "      <td>2</td>\n",
       "      <td>None/Unknown</td>\n",
       "      <td>1</td>\n",
       "    </tr>\n",
       "    <tr>\n",
       "      <th>1</th>\n",
       "      <td>45-54</td>\n",
       "      <td>A</td>\n",
       "      <td>50-74K</td>\n",
       "      <td>Homeowner</td>\n",
       "      <td>2 Adults No Kids</td>\n",
       "      <td>2</td>\n",
       "      <td>None/Unknown</td>\n",
       "      <td>7</td>\n",
       "    </tr>\n",
       "    <tr>\n",
       "      <th>2</th>\n",
       "      <td>25-34</td>\n",
       "      <td>U</td>\n",
       "      <td>25-34K</td>\n",
       "      <td>Unknown</td>\n",
       "      <td>2 Adults Kids</td>\n",
       "      <td>3</td>\n",
       "      <td>1</td>\n",
       "      <td>8</td>\n",
       "    </tr>\n",
       "    <tr>\n",
       "      <th>3</th>\n",
       "      <td>25-34</td>\n",
       "      <td>U</td>\n",
       "      <td>75-99K</td>\n",
       "      <td>Homeowner</td>\n",
       "      <td>2 Adults Kids</td>\n",
       "      <td>4</td>\n",
       "      <td>2</td>\n",
       "      <td>13</td>\n",
       "    </tr>\n",
       "    <tr>\n",
       "      <th>4</th>\n",
       "      <td>45-54</td>\n",
       "      <td>B</td>\n",
       "      <td>50-74K</td>\n",
       "      <td>Homeowner</td>\n",
       "      <td>Single Female</td>\n",
       "      <td>1</td>\n",
       "      <td>None/Unknown</td>\n",
       "      <td>16</td>\n",
       "    </tr>\n",
       "  </tbody>\n",
       "</table>\n",
       "</div>"
      ],
      "text/plain": [
       "  age_desc marital_status_code income_desc homeowner_desc      hh_comp_desc  \\\n",
       "0      65+                   A      35-49K      Homeowner  2 Adults No Kids   \n",
       "1    45-54                   A      50-74K      Homeowner  2 Adults No Kids   \n",
       "2    25-34                   U      25-34K        Unknown     2 Adults Kids   \n",
       "3    25-34                   U      75-99K      Homeowner     2 Adults Kids   \n",
       "4    45-54                   B      50-74K      Homeowner     Single Female   \n",
       "\n",
       "  household_size_desc kid_category_desc  household_key  \n",
       "0                   2      None/Unknown              1  \n",
       "1                   2      None/Unknown              7  \n",
       "2                   3                 1              8  \n",
       "3                   4                 2             13  \n",
       "4                   1      None/Unknown             16  "
      ]
     },
     "metadata": {},
     "output_type": "display_data"
    }
   ],
   "source": [
    "display(transactions.head(), products.head(), demographics.head())"
   ]
  },
  {
   "cell_type": "code",
   "execution_count": 211,
   "id": "4c10e5f5",
   "metadata": {},
   "outputs": [
    {
     "name": "stdout",
     "output_type": "stream",
     "text": [
      "<class 'pandas.core.frame.DataFrame'>\n",
      "Index: 2141908 entries, 0 to 2146310\n",
      "Data columns (total 11 columns):\n",
      " #   Column             Dtype  \n",
      "---  ------             -----  \n",
      " 0   household_key      int64  \n",
      " 1   basket_id          int64  \n",
      " 2   day                int64  \n",
      " 3   product_id         int64  \n",
      " 4   quantity           int64  \n",
      " 5   sales_value        float64\n",
      " 6   store_id           int64  \n",
      " 7   retail_disc        float64\n",
      " 8   week_no            int64  \n",
      " 9   coupon_disc        float64\n",
      " 10  coupon_match_disc  float64\n",
      "dtypes: float64(4), int64(7)\n",
      "memory usage: 196.1 MB\n"
     ]
    }
   ],
   "source": [
    "transactions.info(memory_usage=\"deep\")"
   ]
  },
  {
   "cell_type": "code",
   "execution_count": 212,
   "id": "153773f1",
   "metadata": {},
   "outputs": [
    {
     "data": {
      "text/plain": [
       "household_key        2141908\n",
       "basket_id            2141908\n",
       "day                  2141908\n",
       "product_id           2141908\n",
       "quantity             2141908\n",
       "sales_value          2141908\n",
       "store_id             2141908\n",
       "retail_disc          2141908\n",
       "week_no              2141908\n",
       "coupon_disc          2141908\n",
       "coupon_match_disc    2141908\n",
       "dtype: int64"
      ]
     },
     "execution_count": 212,
     "metadata": {},
     "output_type": "execute_result"
    }
   ],
   "source": [
    "transactions.notna().sum()"
   ]
  },
  {
   "cell_type": "code",
   "execution_count": 213,
   "id": "60efb9aa-0b5e-44c1-b8e6-1eb29151e704",
   "metadata": {},
   "outputs": [
    {
     "name": "stdout",
     "output_type": "stream",
     "text": [
      "<class 'pandas.core.frame.DataFrame'>\n",
      "RangeIndex: 801 entries, 0 to 800\n",
      "Data columns (total 8 columns):\n",
      " #   Column               Non-Null Count  Dtype \n",
      "---  ------               --------------  ----- \n",
      " 0   age_desc             801 non-null    object\n",
      " 1   marital_status_code  801 non-null    object\n",
      " 2   income_desc          801 non-null    object\n",
      " 3   homeowner_desc       801 non-null    object\n",
      " 4   hh_comp_desc         801 non-null    object\n",
      " 5   household_size_desc  801 non-null    object\n",
      " 6   kid_category_desc    801 non-null    object\n",
      " 7   household_key        801 non-null    int64 \n",
      "dtypes: int64(1), object(7)\n",
      "memory usage: 308.9 KB\n"
     ]
    }
   ],
   "source": [
    "demographics.info(memory_usage=\"deep\")"
   ]
  },
  {
   "cell_type": "code",
   "execution_count": 214,
   "id": "89bc0834-400b-4495-a70f-7336d34f2967",
   "metadata": {},
   "outputs": [
    {
     "name": "stdout",
     "output_type": "stream",
     "text": [
      "<class 'pandas.core.frame.DataFrame'>\n",
      "RangeIndex: 92353 entries, 0 to 92352\n",
      "Data columns (total 7 columns):\n",
      " #   Column                Non-Null Count  Dtype \n",
      "---  ------                --------------  ----- \n",
      " 0   product_id            92353 non-null  int64 \n",
      " 1   manufacturer          92353 non-null  int64 \n",
      " 2   department            92353 non-null  object\n",
      " 3   brand                 92353 non-null  object\n",
      " 4   commodity_desc        92353 non-null  object\n",
      " 5   sub_commodity_desc    92353 non-null  object\n",
      " 6   curr_size_of_product  92353 non-null  object\n",
      "dtypes: int64(2), object(5)\n",
      "memory usage: 27.6 MB\n"
     ]
    }
   ],
   "source": [
    "products.info(memory_usage=\"deep\")"
   ]
  },
  {
   "cell_type": "code",
   "execution_count": 215,
   "id": "28d89154-b183-439f-a578-3f82415a3586",
   "metadata": {},
   "outputs": [
    {
     "data": {
      "text/html": [
       "<div>\n",
       "<style scoped>\n",
       "    .dataframe tbody tr th:only-of-type {\n",
       "        vertical-align: middle;\n",
       "    }\n",
       "\n",
       "    .dataframe tbody tr th {\n",
       "        vertical-align: top;\n",
       "    }\n",
       "\n",
       "    .dataframe thead th {\n",
       "        text-align: right;\n",
       "    }\n",
       "</style>\n",
       "<table border=\"1\" class=\"dataframe\">\n",
       "  <thead>\n",
       "    <tr style=\"text-align: right;\">\n",
       "      <th></th>\n",
       "      <th>household_key</th>\n",
       "      <th>basket_id</th>\n",
       "      <th>day</th>\n",
       "      <th>product_id</th>\n",
       "      <th>quantity</th>\n",
       "      <th>sales_value</th>\n",
       "      <th>store_id</th>\n",
       "      <th>retail_disc</th>\n",
       "      <th>week_no</th>\n",
       "      <th>coupon_disc</th>\n",
       "      <th>coupon_match_disc</th>\n",
       "    </tr>\n",
       "  </thead>\n",
       "  <tbody>\n",
       "    <tr>\n",
       "      <th>count</th>\n",
       "      <td>2141908.00</td>\n",
       "      <td>2.141908e+06</td>\n",
       "      <td>2141908.00</td>\n",
       "      <td>2141908.00</td>\n",
       "      <td>2141908.00</td>\n",
       "      <td>2141908.00</td>\n",
       "      <td>2141908.00</td>\n",
       "      <td>2141908.00</td>\n",
       "      <td>2141908.00</td>\n",
       "      <td>2141908.00</td>\n",
       "      <td>2141908.00</td>\n",
       "    </tr>\n",
       "    <tr>\n",
       "      <th>mean</th>\n",
       "      <td>1056.30</td>\n",
       "      <td>3.404645e+10</td>\n",
       "      <td>389.39</td>\n",
       "      <td>2880586.03</td>\n",
       "      <td>99.09</td>\n",
       "      <td>3.09</td>\n",
       "      <td>3265.97</td>\n",
       "      <td>-0.53</td>\n",
       "      <td>56.31</td>\n",
       "      <td>-0.02</td>\n",
       "      <td>-0.00</td>\n",
       "    </tr>\n",
       "    <tr>\n",
       "      <th>std</th>\n",
       "      <td>605.63</td>\n",
       "      <td>4.723623e+09</td>\n",
       "      <td>190.07</td>\n",
       "      <td>3828071.80</td>\n",
       "      <td>1138.13</td>\n",
       "      <td>4.14</td>\n",
       "      <td>9118.83</td>\n",
       "      <td>1.23</td>\n",
       "      <td>27.15</td>\n",
       "      <td>0.21</td>\n",
       "      <td>0.04</td>\n",
       "    </tr>\n",
       "    <tr>\n",
       "      <th>min</th>\n",
       "      <td>1.00</td>\n",
       "      <td>2.698490e+10</td>\n",
       "      <td>1.00</td>\n",
       "      <td>25671.00</td>\n",
       "      <td>0.00</td>\n",
       "      <td>0.00</td>\n",
       "      <td>1.00</td>\n",
       "      <td>-130.02</td>\n",
       "      <td>1.00</td>\n",
       "      <td>-55.93</td>\n",
       "      <td>-7.70</td>\n",
       "    </tr>\n",
       "    <tr>\n",
       "      <th>25%</th>\n",
       "      <td>547.00</td>\n",
       "      <td>3.040791e+10</td>\n",
       "      <td>229.00</td>\n",
       "      <td>917008.00</td>\n",
       "      <td>1.00</td>\n",
       "      <td>1.29</td>\n",
       "      <td>330.00</td>\n",
       "      <td>-0.68</td>\n",
       "      <td>33.00</td>\n",
       "      <td>0.00</td>\n",
       "      <td>0.00</td>\n",
       "    </tr>\n",
       "    <tr>\n",
       "      <th>50%</th>\n",
       "      <td>1045.00</td>\n",
       "      <td>3.281164e+10</td>\n",
       "      <td>392.00</td>\n",
       "      <td>1027835.00</td>\n",
       "      <td>1.00</td>\n",
       "      <td>2.00</td>\n",
       "      <td>372.00</td>\n",
       "      <td>0.00</td>\n",
       "      <td>57.00</td>\n",
       "      <td>0.00</td>\n",
       "      <td>0.00</td>\n",
       "    </tr>\n",
       "    <tr>\n",
       "      <th>75%</th>\n",
       "      <td>1583.00</td>\n",
       "      <td>4.012798e+10</td>\n",
       "      <td>555.00</td>\n",
       "      <td>1132770.00</td>\n",
       "      <td>1.00</td>\n",
       "      <td>3.49</td>\n",
       "      <td>422.00</td>\n",
       "      <td>0.00</td>\n",
       "      <td>80.00</td>\n",
       "      <td>0.00</td>\n",
       "      <td>0.00</td>\n",
       "    </tr>\n",
       "    <tr>\n",
       "      <th>max</th>\n",
       "      <td>2099.00</td>\n",
       "      <td>4.230536e+10</td>\n",
       "      <td>711.00</td>\n",
       "      <td>18316298.00</td>\n",
       "      <td>89638.00</td>\n",
       "      <td>840.00</td>\n",
       "      <td>34280.00</td>\n",
       "      <td>3.99</td>\n",
       "      <td>102.00</td>\n",
       "      <td>0.00</td>\n",
       "      <td>0.00</td>\n",
       "    </tr>\n",
       "  </tbody>\n",
       "</table>\n",
       "</div>"
      ],
      "text/plain": [
       "       household_key     basket_id         day   product_id    quantity  \\\n",
       "count     2141908.00  2.141908e+06  2141908.00   2141908.00  2141908.00   \n",
       "mean         1056.30  3.404645e+10      389.39   2880586.03       99.09   \n",
       "std           605.63  4.723623e+09      190.07   3828071.80     1138.13   \n",
       "min             1.00  2.698490e+10        1.00     25671.00        0.00   \n",
       "25%           547.00  3.040791e+10      229.00    917008.00        1.00   \n",
       "50%          1045.00  3.281164e+10      392.00   1027835.00        1.00   \n",
       "75%          1583.00  4.012798e+10      555.00   1132770.00        1.00   \n",
       "max          2099.00  4.230536e+10      711.00  18316298.00    89638.00   \n",
       "\n",
       "       sales_value    store_id  retail_disc     week_no  coupon_disc  \\\n",
       "count   2141908.00  2141908.00   2141908.00  2141908.00   2141908.00   \n",
       "mean          3.09     3265.97        -0.53       56.31        -0.02   \n",
       "std           4.14     9118.83         1.23       27.15         0.21   \n",
       "min           0.00        1.00      -130.02        1.00       -55.93   \n",
       "25%           1.29      330.00        -0.68       33.00         0.00   \n",
       "50%           2.00      372.00         0.00       57.00         0.00   \n",
       "75%           3.49      422.00         0.00       80.00         0.00   \n",
       "max         840.00    34280.00         3.99      102.00         0.00   \n",
       "\n",
       "       coupon_match_disc  \n",
       "count         2141908.00  \n",
       "mean               -0.00  \n",
       "std                 0.04  \n",
       "min                -7.70  \n",
       "25%                 0.00  \n",
       "50%                 0.00  \n",
       "75%                 0.00  \n",
       "max                 0.00  "
      ]
     },
     "execution_count": 215,
     "metadata": {},
     "output_type": "execute_result"
    }
   ],
   "source": [
    "transactions.describe().round(2)"
   ]
  },
  {
   "cell_type": "code",
   "execution_count": 216,
   "id": "bce83a1c-2e8c-4fde-9295-5d81f6b6cceb",
   "metadata": {},
   "outputs": [
    {
     "data": {
      "text/html": [
       "<div>\n",
       "<style scoped>\n",
       "    .dataframe tbody tr th:only-of-type {\n",
       "        vertical-align: middle;\n",
       "    }\n",
       "\n",
       "    .dataframe tbody tr th {\n",
       "        vertical-align: top;\n",
       "    }\n",
       "\n",
       "    .dataframe thead th {\n",
       "        text-align: right;\n",
       "    }\n",
       "</style>\n",
       "<table border=\"1\" class=\"dataframe\">\n",
       "  <thead>\n",
       "    <tr style=\"text-align: right;\">\n",
       "      <th></th>\n",
       "      <th>age_desc</th>\n",
       "      <th>marital_status_code</th>\n",
       "      <th>income_desc</th>\n",
       "      <th>homeowner_desc</th>\n",
       "      <th>hh_comp_desc</th>\n",
       "      <th>household_size_desc</th>\n",
       "      <th>kid_category_desc</th>\n",
       "      <th>household_key</th>\n",
       "    </tr>\n",
       "  </thead>\n",
       "  <tbody>\n",
       "    <tr>\n",
       "      <th>count</th>\n",
       "      <td>801</td>\n",
       "      <td>801</td>\n",
       "      <td>801</td>\n",
       "      <td>801</td>\n",
       "      <td>801</td>\n",
       "      <td>801</td>\n",
       "      <td>801</td>\n",
       "      <td>801.00</td>\n",
       "    </tr>\n",
       "    <tr>\n",
       "      <th>unique</th>\n",
       "      <td>6</td>\n",
       "      <td>3</td>\n",
       "      <td>12</td>\n",
       "      <td>5</td>\n",
       "      <td>6</td>\n",
       "      <td>5</td>\n",
       "      <td>4</td>\n",
       "      <td>NaN</td>\n",
       "    </tr>\n",
       "    <tr>\n",
       "      <th>top</th>\n",
       "      <td>45-54</td>\n",
       "      <td>U</td>\n",
       "      <td>50-74K</td>\n",
       "      <td>Homeowner</td>\n",
       "      <td>2 Adults No Kids</td>\n",
       "      <td>2</td>\n",
       "      <td>None/Unknown</td>\n",
       "      <td>NaN</td>\n",
       "    </tr>\n",
       "    <tr>\n",
       "      <th>freq</th>\n",
       "      <td>288</td>\n",
       "      <td>344</td>\n",
       "      <td>192</td>\n",
       "      <td>504</td>\n",
       "      <td>255</td>\n",
       "      <td>318</td>\n",
       "      <td>558</td>\n",
       "      <td>NaN</td>\n",
       "    </tr>\n",
       "    <tr>\n",
       "      <th>mean</th>\n",
       "      <td>NaN</td>\n",
       "      <td>NaN</td>\n",
       "      <td>NaN</td>\n",
       "      <td>NaN</td>\n",
       "      <td>NaN</td>\n",
       "      <td>NaN</td>\n",
       "      <td>NaN</td>\n",
       "      <td>1235.18</td>\n",
       "    </tr>\n",
       "    <tr>\n",
       "      <th>std</th>\n",
       "      <td>NaN</td>\n",
       "      <td>NaN</td>\n",
       "      <td>NaN</td>\n",
       "      <td>NaN</td>\n",
       "      <td>NaN</td>\n",
       "      <td>NaN</td>\n",
       "      <td>NaN</td>\n",
       "      <td>736.80</td>\n",
       "    </tr>\n",
       "    <tr>\n",
       "      <th>min</th>\n",
       "      <td>NaN</td>\n",
       "      <td>NaN</td>\n",
       "      <td>NaN</td>\n",
       "      <td>NaN</td>\n",
       "      <td>NaN</td>\n",
       "      <td>NaN</td>\n",
       "      <td>NaN</td>\n",
       "      <td>1.00</td>\n",
       "    </tr>\n",
       "    <tr>\n",
       "      <th>25%</th>\n",
       "      <td>NaN</td>\n",
       "      <td>NaN</td>\n",
       "      <td>NaN</td>\n",
       "      <td>NaN</td>\n",
       "      <td>NaN</td>\n",
       "      <td>NaN</td>\n",
       "      <td>NaN</td>\n",
       "      <td>596.00</td>\n",
       "    </tr>\n",
       "    <tr>\n",
       "      <th>50%</th>\n",
       "      <td>NaN</td>\n",
       "      <td>NaN</td>\n",
       "      <td>NaN</td>\n",
       "      <td>NaN</td>\n",
       "      <td>NaN</td>\n",
       "      <td>NaN</td>\n",
       "      <td>NaN</td>\n",
       "      <td>1218.00</td>\n",
       "    </tr>\n",
       "    <tr>\n",
       "      <th>75%</th>\n",
       "      <td>NaN</td>\n",
       "      <td>NaN</td>\n",
       "      <td>NaN</td>\n",
       "      <td>NaN</td>\n",
       "      <td>NaN</td>\n",
       "      <td>NaN</td>\n",
       "      <td>NaN</td>\n",
       "      <td>1914.00</td>\n",
       "    </tr>\n",
       "    <tr>\n",
       "      <th>max</th>\n",
       "      <td>NaN</td>\n",
       "      <td>NaN</td>\n",
       "      <td>NaN</td>\n",
       "      <td>NaN</td>\n",
       "      <td>NaN</td>\n",
       "      <td>NaN</td>\n",
       "      <td>NaN</td>\n",
       "      <td>2499.00</td>\n",
       "    </tr>\n",
       "  </tbody>\n",
       "</table>\n",
       "</div>"
      ],
      "text/plain": [
       "       age_desc marital_status_code income_desc homeowner_desc  \\\n",
       "count       801                 801         801            801   \n",
       "unique        6                   3          12              5   \n",
       "top       45-54                   U      50-74K      Homeowner   \n",
       "freq        288                 344         192            504   \n",
       "mean        NaN                 NaN         NaN            NaN   \n",
       "std         NaN                 NaN         NaN            NaN   \n",
       "min         NaN                 NaN         NaN            NaN   \n",
       "25%         NaN                 NaN         NaN            NaN   \n",
       "50%         NaN                 NaN         NaN            NaN   \n",
       "75%         NaN                 NaN         NaN            NaN   \n",
       "max         NaN                 NaN         NaN            NaN   \n",
       "\n",
       "            hh_comp_desc household_size_desc kid_category_desc  household_key  \n",
       "count                801                 801               801         801.00  \n",
       "unique                 6                   5                 4            NaN  \n",
       "top     2 Adults No Kids                   2      None/Unknown            NaN  \n",
       "freq                 255                 318               558            NaN  \n",
       "mean                 NaN                 NaN               NaN        1235.18  \n",
       "std                  NaN                 NaN               NaN         736.80  \n",
       "min                  NaN                 NaN               NaN           1.00  \n",
       "25%                  NaN                 NaN               NaN         596.00  \n",
       "50%                  NaN                 NaN               NaN        1218.00  \n",
       "75%                  NaN                 NaN               NaN        1914.00  \n",
       "max                  NaN                 NaN               NaN        2499.00  "
      ]
     },
     "execution_count": 216,
     "metadata": {},
     "output_type": "execute_result"
    }
   ],
   "source": [
    "demographics.describe(include=[float, int, object]).round(2)"
   ]
  },
  {
   "cell_type": "code",
   "execution_count": 217,
   "id": "7535a1bb",
   "metadata": {},
   "outputs": [
    {
     "data": {
      "text/html": [
       "<div>\n",
       "<style scoped>\n",
       "    .dataframe tbody tr th:only-of-type {\n",
       "        vertical-align: middle;\n",
       "    }\n",
       "\n",
       "    .dataframe tbody tr th {\n",
       "        vertical-align: top;\n",
       "    }\n",
       "\n",
       "    .dataframe thead th {\n",
       "        text-align: right;\n",
       "    }\n",
       "</style>\n",
       "<table border=\"1\" class=\"dataframe\">\n",
       "  <thead>\n",
       "    <tr style=\"text-align: right;\">\n",
       "      <th></th>\n",
       "      <th>product_id</th>\n",
       "      <th>manufacturer</th>\n",
       "      <th>department</th>\n",
       "      <th>brand</th>\n",
       "      <th>commodity_desc</th>\n",
       "      <th>sub_commodity_desc</th>\n",
       "      <th>curr_size_of_product</th>\n",
       "    </tr>\n",
       "  </thead>\n",
       "  <tbody>\n",
       "    <tr>\n",
       "      <th>count</th>\n",
       "      <td>92353.00</td>\n",
       "      <td>92353.00</td>\n",
       "      <td>92353</td>\n",
       "      <td>92353</td>\n",
       "      <td>92353</td>\n",
       "      <td>92353</td>\n",
       "      <td>92353</td>\n",
       "    </tr>\n",
       "    <tr>\n",
       "      <th>unique</th>\n",
       "      <td>NaN</td>\n",
       "      <td>NaN</td>\n",
       "      <td>44</td>\n",
       "      <td>2</td>\n",
       "      <td>308</td>\n",
       "      <td>2383</td>\n",
       "      <td>4345</td>\n",
       "    </tr>\n",
       "    <tr>\n",
       "      <th>top</th>\n",
       "      <td>NaN</td>\n",
       "      <td>NaN</td>\n",
       "      <td>GROCERY</td>\n",
       "      <td>National</td>\n",
       "      <td>GREETING CARDS/WRAP/PARTY SPLY</td>\n",
       "      <td>CARDS EVERYDAY</td>\n",
       "      <td></td>\n",
       "    </tr>\n",
       "    <tr>\n",
       "      <th>freq</th>\n",
       "      <td>NaN</td>\n",
       "      <td>NaN</td>\n",
       "      <td>39021</td>\n",
       "      <td>78537</td>\n",
       "      <td>2785</td>\n",
       "      <td>1005</td>\n",
       "      <td>30607</td>\n",
       "    </tr>\n",
       "    <tr>\n",
       "      <th>mean</th>\n",
       "      <td>5328352.84</td>\n",
       "      <td>1739.23</td>\n",
       "      <td>NaN</td>\n",
       "      <td>NaN</td>\n",
       "      <td>NaN</td>\n",
       "      <td>NaN</td>\n",
       "      <td>NaN</td>\n",
       "    </tr>\n",
       "    <tr>\n",
       "      <th>std</th>\n",
       "      <td>5359937.08</td>\n",
       "      <td>1818.27</td>\n",
       "      <td>NaN</td>\n",
       "      <td>NaN</td>\n",
       "      <td>NaN</td>\n",
       "      <td>NaN</td>\n",
       "      <td>NaN</td>\n",
       "    </tr>\n",
       "    <tr>\n",
       "      <th>min</th>\n",
       "      <td>25671.00</td>\n",
       "      <td>1.00</td>\n",
       "      <td>NaN</td>\n",
       "      <td>NaN</td>\n",
       "      <td>NaN</td>\n",
       "      <td>NaN</td>\n",
       "      <td>NaN</td>\n",
       "    </tr>\n",
       "    <tr>\n",
       "      <th>25%</th>\n",
       "      <td>970628.00</td>\n",
       "      <td>328.00</td>\n",
       "      <td>NaN</td>\n",
       "      <td>NaN</td>\n",
       "      <td>NaN</td>\n",
       "      <td>NaN</td>\n",
       "      <td>NaN</td>\n",
       "    </tr>\n",
       "    <tr>\n",
       "      <th>50%</th>\n",
       "      <td>1621091.00</td>\n",
       "      <td>1094.00</td>\n",
       "      <td>NaN</td>\n",
       "      <td>NaN</td>\n",
       "      <td>NaN</td>\n",
       "      <td>NaN</td>\n",
       "      <td>NaN</td>\n",
       "    </tr>\n",
       "    <tr>\n",
       "      <th>75%</th>\n",
       "      <td>9704770.00</td>\n",
       "      <td>2264.00</td>\n",
       "      <td>NaN</td>\n",
       "      <td>NaN</td>\n",
       "      <td>NaN</td>\n",
       "      <td>NaN</td>\n",
       "      <td>NaN</td>\n",
       "    </tr>\n",
       "    <tr>\n",
       "      <th>max</th>\n",
       "      <td>18316298.00</td>\n",
       "      <td>6477.00</td>\n",
       "      <td>NaN</td>\n",
       "      <td>NaN</td>\n",
       "      <td>NaN</td>\n",
       "      <td>NaN</td>\n",
       "      <td>NaN</td>\n",
       "    </tr>\n",
       "  </tbody>\n",
       "</table>\n",
       "</div>"
      ],
      "text/plain": [
       "         product_id  manufacturer department     brand  \\\n",
       "count      92353.00      92353.00      92353     92353   \n",
       "unique          NaN           NaN         44         2   \n",
       "top             NaN           NaN    GROCERY  National   \n",
       "freq            NaN           NaN      39021     78537   \n",
       "mean     5328352.84       1739.23        NaN       NaN   \n",
       "std      5359937.08       1818.27        NaN       NaN   \n",
       "min        25671.00          1.00        NaN       NaN   \n",
       "25%       970628.00        328.00        NaN       NaN   \n",
       "50%      1621091.00       1094.00        NaN       NaN   \n",
       "75%      9704770.00       2264.00        NaN       NaN   \n",
       "max     18316298.00       6477.00        NaN       NaN   \n",
       "\n",
       "                        commodity_desc sub_commodity_desc curr_size_of_product  \n",
       "count                            92353              92353                92353  \n",
       "unique                             308               2383                 4345  \n",
       "top     GREETING CARDS/WRAP/PARTY SPLY     CARDS EVERYDAY                       \n",
       "freq                              2785               1005                30607  \n",
       "mean                               NaN                NaN                  NaN  \n",
       "std                                NaN                NaN                  NaN  \n",
       "min                                NaN                NaN                  NaN  \n",
       "25%                                NaN                NaN                  NaN  \n",
       "50%                                NaN                NaN                  NaN  \n",
       "75%                                NaN                NaN                  NaN  \n",
       "max                                NaN                NaN                  NaN  "
      ]
     },
     "execution_count": 217,
     "metadata": {},
     "output_type": "execute_result"
    }
   ],
   "source": [
    "products.describe(include=[float, int, object]).round(2)"
   ]
  },
  {
   "cell_type": "markdown",
   "id": "15663d1d-4ea4-4091-aedc-97170a795110",
   "metadata": {},
   "source": [
    "#### Decreasing the size of the dataset"
   ]
  },
  {
   "cell_type": "code",
   "execution_count": 218,
   "id": "22fb8381",
   "metadata": {},
   "outputs": [
    {
     "name": "stdout",
     "output_type": "stream",
     "text": [
      "<class 'pandas.core.frame.DataFrame'>\n",
      "Index: 2141908 entries, 0 to 2146310\n",
      "Data columns (total 11 columns):\n",
      " #   Column             Dtype  \n",
      "---  ------             -----  \n",
      " 0   household_key      int16  \n",
      " 1   basket_id          int64  \n",
      " 2   day                int8   \n",
      " 3   product_id         int64  \n",
      " 4   quantity           int32  \n",
      " 5   sales_value        float32\n",
      " 6   store_id           int32  \n",
      " 7   retail_disc        float64\n",
      " 8   week_no            int8   \n",
      " 9   coupon_disc        float64\n",
      " 10  coupon_match_disc  float64\n",
      "dtypes: float32(1), float64(3), int16(1), int32(2), int64(2), int8(2)\n",
      "memory usage: 130.7 MB\n"
     ]
    }
   ],
   "source": [
    "transactions = transactions.astype({\"household_key\":\"int16\",\n",
    "                                    \"day\": \"int8\",\n",
    "                                    \"quantity\": \"int32\",\n",
    "                                    \"store_id\": \"int32\",\n",
    "                                    \"week_no\": \"int8\",\n",
    "                                    \"sales_value\":\"float32\",\n",
    "                                    \"retail_disc\":\"float\",\n",
    "                                    \"coupon_disc\":\"float\"})\n",
    "transactions.info()\n",
    "                          "
   ]
  },
  {
   "cell_type": "markdown",
   "id": "da1b6d8b-b530-4b45-835d-a7ae6ae578e6",
   "metadata": {},
   "source": [
    "## Data Cleaning and Preparation"
   ]
  },
  {
   "cell_type": "markdown",
   "id": "42983a48",
   "metadata": {},
   "source": [
    "In this section, I:\n",
    "\n",
    "Convert the \"retail_disc\" and \"coupon_disc\" columns into positive values.\n",
    "\n",
    "Add two columns:\n",
    "\n",
    "* A column that captures the `total_discount` by row (sum of `retail_disc`, `coupon_disc`)\n",
    "* The percentage disount (`total_discount` / `sales_value`). Make sure this is positive (try `.abs()`).\n",
    "* If the percentage discount is greater than 1, set it equal to 1. If it is less than 0, set it to 0.\n",
    "\n",
    "Drop the individual discount columns (`retail_disc`, `coupon_disc`, `coupon_match_disc`).\n"
   ]
  },
  {
   "cell_type": "code",
   "execution_count": 219,
   "id": "1e09ea5b",
   "metadata": {},
   "outputs": [],
   "source": [
    "transactions[[\"retail_disc\",\"coupon_disc\"]] = transactions[[\"retail_disc\",\"coupon_disc\"]].abs()"
   ]
  },
  {
   "cell_type": "code",
   "execution_count": 220,
   "id": "e0af83c4",
   "metadata": {},
   "outputs": [],
   "source": [
    "# create a discount sum column and a percentage discount column and drop [\"retail_disc\", \"coupon_disc\", \"coupon_match_disc\"] columns\n",
    "transactions = (\n",
    "    transactions\n",
    "    .assign(total_discount = transactions[\"retail_disc\"] + transactions[\"coupon_disc\"],\n",
    "            percentage_discount = (lambda x: (x[\"total_discount\"] / x[\"sales_value\"])))\n",
    ").drop([\"retail_disc\", \"coupon_disc\", \"coupon_match_disc\"], axis=1)\n"
   ]
  },
  {
   "cell_type": "code",
   "execution_count": 221,
   "id": "432ad89f-aba5-469a-ba00-ac9bbb9080b4",
   "metadata": {},
   "outputs": [
    {
     "data": {
      "text/html": [
       "<div>\n",
       "<style scoped>\n",
       "    .dataframe tbody tr th:only-of-type {\n",
       "        vertical-align: middle;\n",
       "    }\n",
       "\n",
       "    .dataframe tbody tr th {\n",
       "        vertical-align: top;\n",
       "    }\n",
       "\n",
       "    .dataframe thead th {\n",
       "        text-align: right;\n",
       "    }\n",
       "</style>\n",
       "<table border=\"1\" class=\"dataframe\">\n",
       "  <thead>\n",
       "    <tr style=\"text-align: right;\">\n",
       "      <th></th>\n",
       "      <th>household_key</th>\n",
       "      <th>basket_id</th>\n",
       "      <th>day</th>\n",
       "      <th>product_id</th>\n",
       "      <th>quantity</th>\n",
       "      <th>sales_value</th>\n",
       "      <th>store_id</th>\n",
       "      <th>week_no</th>\n",
       "      <th>total_discount</th>\n",
       "      <th>percentage_discount</th>\n",
       "    </tr>\n",
       "  </thead>\n",
       "  <tbody>\n",
       "    <tr>\n",
       "      <th>0</th>\n",
       "      <td>1364</td>\n",
       "      <td>26984896261</td>\n",
       "      <td>1</td>\n",
       "      <td>842930</td>\n",
       "      <td>1</td>\n",
       "      <td>2.19</td>\n",
       "      <td>31742</td>\n",
       "      <td>1</td>\n",
       "      <td>0.00</td>\n",
       "      <td>0.0000</td>\n",
       "    </tr>\n",
       "    <tr>\n",
       "      <th>1</th>\n",
       "      <td>1364</td>\n",
       "      <td>26984896261</td>\n",
       "      <td>1</td>\n",
       "      <td>897044</td>\n",
       "      <td>1</td>\n",
       "      <td>2.99</td>\n",
       "      <td>31742</td>\n",
       "      <td>1</td>\n",
       "      <td>0.40</td>\n",
       "      <td>0.1338</td>\n",
       "    </tr>\n",
       "    <tr>\n",
       "      <th>2</th>\n",
       "      <td>1364</td>\n",
       "      <td>26984896261</td>\n",
       "      <td>1</td>\n",
       "      <td>920955</td>\n",
       "      <td>1</td>\n",
       "      <td>3.09</td>\n",
       "      <td>31742</td>\n",
       "      <td>1</td>\n",
       "      <td>0.00</td>\n",
       "      <td>0.0000</td>\n",
       "    </tr>\n",
       "    <tr>\n",
       "      <th>3</th>\n",
       "      <td>1364</td>\n",
       "      <td>26984896261</td>\n",
       "      <td>1</td>\n",
       "      <td>937406</td>\n",
       "      <td>1</td>\n",
       "      <td>2.50</td>\n",
       "      <td>31742</td>\n",
       "      <td>1</td>\n",
       "      <td>0.99</td>\n",
       "      <td>0.3960</td>\n",
       "    </tr>\n",
       "    <tr>\n",
       "      <th>4</th>\n",
       "      <td>1364</td>\n",
       "      <td>26984896261</td>\n",
       "      <td>1</td>\n",
       "      <td>981760</td>\n",
       "      <td>1</td>\n",
       "      <td>0.60</td>\n",
       "      <td>31742</td>\n",
       "      <td>1</td>\n",
       "      <td>0.79</td>\n",
       "      <td>1.0000</td>\n",
       "    </tr>\n",
       "  </tbody>\n",
       "</table>\n",
       "</div>"
      ],
      "text/plain": [
       "   household_key    basket_id  day  product_id  quantity  sales_value  \\\n",
       "0           1364  26984896261    1      842930         1         2.19   \n",
       "1           1364  26984896261    1      897044         1         2.99   \n",
       "2           1364  26984896261    1      920955         1         3.09   \n",
       "3           1364  26984896261    1      937406         1         2.50   \n",
       "4           1364  26984896261    1      981760         1         0.60   \n",
       "\n",
       "   store_id  week_no  total_discount  percentage_discount  \n",
       "0     31742        1            0.00               0.0000  \n",
       "1     31742        1            0.40               0.1338  \n",
       "2     31742        1            0.00               0.0000  \n",
       "3     31742        1            0.99               0.3960  \n",
       "4     31742        1            0.79               1.0000  "
      ]
     },
     "execution_count": 221,
     "metadata": {},
     "output_type": "execute_result"
    }
   ],
   "source": [
    "# Use where to cap values above 1 at 1 and below 0 at 0. Other methods could be used here as well.\n",
    "transactions[\"percentage_discount\"] = (transactions[\"percentage_discount\"]\n",
    "                                       .where(transactions[\"percentage_discount\"] < 1, 1.0)\n",
    "                                       .where(transactions[\"percentage_discount\"] > 0, 0)\n",
    "                                      )\n",
    "transactions[\"percentage_discount\"] = transactions[\"percentage_discount\"].round(4)\n",
    "transactions.head()"
   ]
  },
  {
   "cell_type": "code",
   "execution_count": 222,
   "id": "6977f4b9",
   "metadata": {},
   "outputs": [
    {
     "data": {
      "text/plain": [
       "count    2.141908e+06\n",
       "mean     2.075549e-01\n",
       "std      2.911754e-01\n",
       "min      0.000000e+00\n",
       "25%      0.000000e+00\n",
       "50%      3.370000e-02\n",
       "75%      3.328000e-01\n",
       "max      1.000000e+00\n",
       "Name: percentage_discount, dtype: float64"
      ]
     },
     "execution_count": 222,
     "metadata": {},
     "output_type": "execute_result"
    }
   ],
   "source": [
    "transactions[\"percentage_discount\"].describe()"
   ]
  },
  {
   "cell_type": "markdown",
   "id": "7194e351",
   "metadata": {},
   "source": [
    "## Overall Statistics\n",
    "### Objectives:\n",
    "* Understanding the dataset scope in terms of transactions size, customer base, and product variety.\n",
    "* Summarizing key metrics such as Total Sales, Total Discounts, and Household Engagement.\n",
    "* Identifing patterns and anomalies in the  distribution shapes and outliers.\n",
    "* Provide a foundation for optimizing pricing, promotions, and customer engagement to support strategic decisions.\n"
   ]
  },
  {
   "cell_type": "markdown",
   "id": "4ab38004-6e9e-4044-9e3f-d0072b96a288",
   "metadata": {},
   "source": [
    " #### Total Transactions\n",
    " Helps estimate the dataset's size and activity levels."
   ]
  },
  {
   "cell_type": "code",
   "execution_count": 223,
   "id": "2c809057",
   "metadata": {},
   "outputs": [
    {
     "name": "stdout",
     "output_type": "stream",
     "text": [
      "Number of transactions: 2,141,908\n"
     ]
    }
   ],
   "source": [
    "# calculate the total number of the transactions\n",
    "print(\"Number of transactions: {:,}\".format(len(transactions)))"
   ]
  },
  {
   "cell_type": "markdown",
   "id": "58fe2e5d",
   "metadata": {},
   "source": [
    "####  Total Active Households\n",
    "Indicates customer engagement"
   ]
  },
  {
   "cell_type": "code",
   "execution_count": 224,
   "id": "ed2fbf29-0650-4dc4-88ae-2c5121b90edc",
   "metadata": {},
   "outputs": [
    {
     "name": "stdout",
     "output_type": "stream",
     "text": [
      "Number of active customers: 2,098\n"
     ]
    }
   ],
   "source": [
    "# Calculate unique households in dataset with nunique (describe could also be used)\n",
    "\n",
    "print(\"Number of active customers: {:,}\".format(transactions[\"household_key\"].nunique()))\n"
   ]
  },
  {
   "cell_type": "markdown",
   "id": "d5714307",
   "metadata": {},
   "source": [
    "#### Total Active Products\n",
    "Indicates product variety"
   ]
  },
  {
   "cell_type": "code",
   "execution_count": 225,
   "id": "885d91e6-97d1-410b-b7fc-b3f6287f0767",
   "metadata": {},
   "outputs": [
    {
     "name": "stdout",
     "output_type": "stream",
     "text": [
      "Number of active products: 84,014\n"
     ]
    }
   ],
   "source": [
    "# Calculate unique product_ids in dataset with nunique\n",
    "\n",
    "print(\"Number of active products: {:,}\".format(transactions[\"product_id\"].nunique()))"
   ]
  },
  {
   "cell_type": "markdown",
   "id": "392457e6",
   "metadata": {},
   "source": [
    "#### Average Sales\n",
    "Useful for benchmarking individual transactions against the overall average."
   ]
  },
  {
   "cell_type": "code",
   "execution_count": 226,
   "id": "58ffc727",
   "metadata": {},
   "outputs": [
    {
     "name": "stdout",
     "output_type": "stream",
     "text": [
      "Average Sales: 3.09\n"
     ]
    }
   ],
   "source": [
    "print(\"Average Sales: {:,.2f}\".format(transactions[\"sales_value\"].mean()))"
   ]
  },
  {
   "cell_type": "markdown",
   "id": "030615d8",
   "metadata": {},
   "source": [
    "#### Overall Percent Discount\n",
    "Indicates the significance of discounts in sales strategy. A high discount percentage might suggest aggressive pricing strategies or promotional campaigns."
   ]
  },
  {
   "cell_type": "code",
   "execution_count": 227,
   "id": "ccf6e817",
   "metadata": {},
   "outputs": [
    {
     "name": "stdout",
     "output_type": "stream",
     "text": [
      "Percent Discount: 17.75%\n"
     ]
    }
   ],
   "source": [
    "print(\"Percent Discount: {:,.2f}%\".format((transactions['total_discount'].sum() / transactions['sales_value'].sum())*100))\n"
   ]
  },
  {
   "cell_type": "markdown",
   "id": "51e41a8c",
   "metadata": {},
   "source": [
    "#### Average Basket Value\n",
    "Indicates how much customers spend per shopping trip"
   ]
  },
  {
   "cell_type": "code",
   "execution_count": 228,
   "id": "30382fb7",
   "metadata": {},
   "outputs": [
    {
     "name": "stdout",
     "output_type": "stream",
     "text": [
      "Average Sales Value per Basket: 28.53\n"
     ]
    }
   ],
   "source": [
    "\n",
    "print(\"Average Sales Value per Basket: {:,.2f}\".format(transactions['sales_value'].sum() / transactions['basket_id'].nunique()))"
   ]
  },
  {
   "cell_type": "markdown",
   "id": "2226ea2f",
   "metadata": {},
   "source": [
    "#### Average Household Spend\n",
    "Reveals household-level engagement and overall contribution to sales."
   ]
  },
  {
   "cell_type": "code",
   "execution_count": 229,
   "id": "8047099c",
   "metadata": {},
   "outputs": [
    {
     "name": "stdout",
     "output_type": "stream",
     "text": [
      "Average Sales Value per Household: 3,159.16\n"
     ]
    }
   ],
   "source": [
    "print(\"Average Sales Value per Household: {:,.2f}\".format(transactions['sales_value'].sum() / transactions['household_key'].nunique()))\n"
   ]
  },
  {
   "cell_type": "markdown",
   "id": "d400a195-fa85-4755-ad1b-ca0cf713f0ff",
   "metadata": {},
   "source": [
    "#### Sales' Statistics & Distribution\n",
    "Helps assess the dataset's financial significance and highlights the range, central tendency, and variability of sales values. High variance might suggest diverse spending habits or product pricing."
   ]
  },
  {
   "cell_type": "code",
   "execution_count": 230,
   "id": "b339daf6-a9b4-4bf4-b7cc-53b224848c0b",
   "metadata": {},
   "outputs": [
    {
     "name": "stdout",
     "output_type": "stream",
     "text": [
      "Total Sales: 6,627,924.0\n",
      "\n",
      "\n",
      "Sales' Statistics\n",
      "count    2.141908e+06\n",
      "mean     3.094402e+00\n",
      "std      4.130737e+00\n",
      "min      0.000000e+00\n",
      "25%      1.290000e+00\n",
      "50%      2.000000e+00\n",
      "75%      3.490000e+00\n",
      "max      8.400000e+02\n",
      "Name: sales_value, dtype: float64\n"
     ]
    },
    {
     "data": {
      "image/png": "[encoded data removed]",
      "text/plain": [
       "<Figure size 1200x400 with 2 Axes>"
      ]
     },
     "metadata": {},
     "output_type": "display_data"
    }
   ],
   "source": [
    "print(f\"Total Sales: {transactions['sales_value'].sum():,}\") # print total sales\n",
    "print(\"\\n\")\n",
    "print(\"Sales' Statistics\")\n",
    "print(transactions['sales_value'].describe()) # print sales statistics\n",
    "# plot the sales_value distribution in box-plot\n",
    "fig, axs = plt.subplots(1, 2, figsize=(12, 4)) \n",
    "\n",
    "transactions['sales_value'].plot.hist(ax=axs[0], title=\"Sales (Histogram)\", bins=30)\n",
    "\n",
    "transactions['sales_value'].plot.box(ax=axs[1], vert=False, title=\"Sales (Boxplot)\")\n",
    "\n",
    "plt.tight_layout() \n",
    "plt.show()"
   ]
  },
  {
   "cell_type": "markdown",
   "id": "9d752ffd-8ac3-4b63-9931-dfb9c8abd9d5",
   "metadata": {},
   "source": [
    "#### Quantity's Statistics & Distirbution\n",
    "Provides an overall measure of the volume of goods sold and can indicate the scale of business operations, shows the variability and helps identify outliers or patterns in purchasing behavior."
   ]
  },
  {
   "cell_type": "code",
   "execution_count": 231,
   "id": "bd9785aa",
   "metadata": {},
   "outputs": [
    {
     "name": "stdout",
     "output_type": "stream",
     "text": [
      "Total Quantity: 212,233,694\n",
      "\n",
      "\n",
      "Quantity's Statistics\n",
      "count    2.141908e+06\n",
      "mean     9.908628e+01\n",
      "std      1.138132e+03\n",
      "min      0.000000e+00\n",
      "25%      1.000000e+00\n",
      "50%      1.000000e+00\n",
      "75%      1.000000e+00\n",
      "max      8.963800e+04\n",
      "Name: quantity, dtype: float64\n"
     ]
    },
    {
     "data": {
      "image/png": "[encoded data removed]",
      "text/plain": [
       "<Figure size 1200x400 with 2 Axes>"
      ]
     },
     "metadata": {},
     "output_type": "display_data"
    }
   ],
   "source": [
    "print(f\"Total Quantity: {transactions['quantity'].sum():,}\")\n",
    "print(\"\\n\")\n",
    "print(\"Quantity's Statistics\")\n",
    "print(transactions['quantity'].describe())\n",
    "\n",
    "fig, axs = plt.subplots(1, 2, figsize=(12, 4)) \n",
    "\n",
    "transactions['quantity'].plot.hist(ax=axs[0], title=\"Total Quantity (Histogram)\", bins=30)\n",
    "\n",
    "transactions['quantity'].plot.box(ax=axs[1], vert=False, title=\"Total Quantity (Boxplot)\")\n",
    "\n",
    "plt.tight_layout() \n",
    "plt.show()\n"
   ]
  },
  {
   "cell_type": "markdown",
   "id": "d7f94617-d7fb-4f7a-b60d-83b99420b3c9",
   "metadata": {},
   "source": [
    "#### Discount's Statistics & Distribution\n",
    "Helpful for evaluating promotional expenses and understanding typical discount sizes. It also highlights how consistent discounting is and whether there are significant deviations. The distribution identifies common discount ranges and potential outliers that might need further analysis."
   ]
  },
  {
   "cell_type": "code",
   "execution_count": 232,
   "id": "4e041e76",
   "metadata": {
    "scrolled": true
   },
   "outputs": [
    {
     "name": "stdout",
     "output_type": "stream",
     "text": [
      "Total Discount: 1,176,459.0\n",
      "\n",
      "\n",
      "Discount's Statistics\n",
      "count    2.141908e+06\n",
      "mean     5.492576e-01\n",
      "std      1.257951e+00\n",
      "min      0.000000e+00\n",
      "25%      0.000000e+00\n",
      "50%      5.000000e-02\n",
      "75%      6.900000e-01\n",
      "max      1.300200e+02\n",
      "Name: total_discount, dtype: float64\n"
     ]
    },
    {
     "data": {
      "image/png": "[encoded data removed]",
      "text/plain": [
       "<Figure size 1200x400 with 2 Axes>"
      ]
     },
     "metadata": {},
     "output_type": "display_data"
    }
   ],
   "source": [
    "print(f\"Total Discount: {transactions['total_discount'].sum().round():,}\") # Total Discount\n",
    "print(\"\\n\")\n",
    "print(\"Discount's Statistics\")\n",
    "print(transactions['total_discount'].describe())\n",
    "\n",
    "fig, axs = plt.subplots(1, 2, figsize=(12, 4)) \n",
    "\n",
    "transactions['total_discount'].plot.hist(ax=axs[0], title=\"Total Discount (Histogram)\", bins=30)\n",
    "\n",
    "transactions['total_discount'].plot.box(ax=axs[1], vert=False, title=\"Total Discount (Boxplot)\")\n",
    "\n",
    "plt.tight_layout() \n",
    "plt.show()"
   ]
  },
  {
   "cell_type": "markdown",
   "id": "26474ab7-3ee2-4d67-b358-a6e7cc83ac8d",
   "metadata": {},
   "source": [
    "The value shows steep discount, because this is a discount retailer... so, it is not too suprising!"
   ]
  },
  {
   "cell_type": "markdown",
   "id": "54b72d43-8435-483e-8a3a-4b2fb403f9a3",
   "metadata": {},
   "source": [
    "#### Discount Percentage Statistics & Distribution"
   ]
  },
  {
   "cell_type": "code",
   "execution_count": 233,
   "id": "9c90bd43",
   "metadata": {},
   "outputs": [
    {
     "name": "stdout",
     "output_type": "stream",
     "text": [
      "Discount Percentage's Statistics\n",
      "count    2.141908e+06\n",
      "mean     2.075549e-01\n",
      "std      2.911754e-01\n",
      "min      0.000000e+00\n",
      "25%      0.000000e+00\n",
      "50%      3.370000e-02\n",
      "75%      3.328000e-01\n",
      "max      1.000000e+00\n",
      "Name: percentage_discount, dtype: float64\n"
     ]
    },
    {
     "data": {
      "image/png": "[encoded data removed]",
      "text/plain": [
       "<Figure size 1200x400 with 2 Axes>"
      ]
     },
     "metadata": {},
     "output_type": "display_data"
    }
   ],
   "source": [
    "print(\"Discount Percentage's Statistics\")\n",
    "print(transactions['percentage_discount'].describe())\n",
    "\n",
    "fig, axs = plt.subplots(1, 2, figsize=(12, 4)) \n",
    "\n",
    "transactions['percentage_discount'].plot.hist(ax=axs[0], title=\"Discount Percentage Distribution (Histogram)\")\n",
    "\n",
    "transactions['percentage_discount'].plot.box(ax=axs[1], vert=False, title=\"Discount Percentage Distribution (Boxplot)\")\n",
    "\n",
    "plt.tight_layout() \n",
    "plt.show()"
   ]
  },
  {
   "cell_type": "markdown",
   "id": "612b4861-f7fc-4b49-b7d8-498ecb244cf6",
   "metadata": {},
   "source": [
    "Findings:\n",
    "\n",
    "The majority of the item comes with less than 20% discount\n"
   ]
  },
  {
   "cell_type": "markdown",
   "id": "958bb36e-c25a-4b0d-9f4c-69859b83f0ab",
   "metadata": {},
   "source": [
    "## Household Analysis\n",
    "\n",
    "### Objective:\n",
    "\n",
    "Understand customer purchasing patterns, average spending, and response to discounts. Identify loyal customers, high spenders, and discount-sensitive segments."
   ]
  },
  {
   "cell_type": "markdown",
   "id": "b4b918ac-bbbb-4e3b-a359-60d89be9420f",
   "metadata": {},
   "source": [
    "#### Calculating Total and Average Spend per Household"
   ]
  },
  {
   "cell_type": "code",
   "execution_count": 295,
   "id": "86a53bcb-8cc9-4b0a-b411-966eff8e666c",
   "metadata": {},
   "outputs": [
    {
     "data": {
      "text/html": [
       "<div>\n",
       "<style scoped>\n",
       "    .dataframe tbody tr th:only-of-type {\n",
       "        vertical-align: middle;\n",
       "    }\n",
       "\n",
       "    .dataframe tbody tr th {\n",
       "        vertical-align: top;\n",
       "    }\n",
       "\n",
       "    .dataframe thead th {\n",
       "        text-align: right;\n",
       "    }\n",
       "</style>\n",
       "<table border=\"1\" class=\"dataframe\">\n",
       "  <thead>\n",
       "    <tr style=\"text-align: right;\">\n",
       "      <th></th>\n",
       "      <th>household_key</th>\n",
       "      <th>total_orders</th>\n",
       "      <th>total_spend</th>\n",
       "      <th>total_discount</th>\n",
       "      <th>avg_order_spend</th>\n",
       "      <th>avg_order_discount</th>\n",
       "    </tr>\n",
       "  </thead>\n",
       "  <tbody>\n",
       "    <tr>\n",
       "      <th>1607</th>\n",
       "      <td>1609</td>\n",
       "      <td>412</td>\n",
       "      <td>27859.679688</td>\n",
       "      <td>2509.68</td>\n",
       "      <td>67.62</td>\n",
       "      <td>6.09</td>\n",
       "    </tr>\n",
       "    <tr>\n",
       "      <th>1451</th>\n",
       "      <td>1453</td>\n",
       "      <td>761</td>\n",
       "      <td>21661.289062</td>\n",
       "      <td>2880.00</td>\n",
       "      <td>28.46</td>\n",
       "      <td>3.78</td>\n",
       "    </tr>\n",
       "    <tr>\n",
       "      <th>1428</th>\n",
       "      <td>1430</td>\n",
       "      <td>344</td>\n",
       "      <td>20352.990234</td>\n",
       "      <td>2491.62</td>\n",
       "      <td>59.17</td>\n",
       "      <td>7.24</td>\n",
       "    </tr>\n",
       "    <tr>\n",
       "      <th>717</th>\n",
       "      <td>718</td>\n",
       "      <td>599</td>\n",
       "      <td>19299.859375</td>\n",
       "      <td>4131.39</td>\n",
       "      <td>32.22</td>\n",
       "      <td>6.90</td>\n",
       "    </tr>\n",
       "    <tr>\n",
       "      <th>706</th>\n",
       "      <td>707</td>\n",
       "      <td>498</td>\n",
       "      <td>19194.419922</td>\n",
       "      <td>2193.94</td>\n",
       "      <td>38.54</td>\n",
       "      <td>4.41</td>\n",
       "    </tr>\n",
       "    <tr>\n",
       "      <th>...</th>\n",
       "      <td>...</td>\n",
       "      <td>...</td>\n",
       "      <td>...</td>\n",
       "      <td>...</td>\n",
       "      <td>...</td>\n",
       "      <td>...</td>\n",
       "    </tr>\n",
       "    <tr>\n",
       "      <th>10</th>\n",
       "      <td>11</td>\n",
       "      <td>5</td>\n",
       "      <td>33.389999</td>\n",
       "      <td>10.98</td>\n",
       "      <td>6.68</td>\n",
       "      <td>2.20</td>\n",
       "    </tr>\n",
       "    <tr>\n",
       "      <th>521</th>\n",
       "      <td>522</td>\n",
       "      <td>3</td>\n",
       "      <td>29.340000</td>\n",
       "      <td>0.29</td>\n",
       "      <td>9.78</td>\n",
       "      <td>0.10</td>\n",
       "    </tr>\n",
       "    <tr>\n",
       "      <th>688</th>\n",
       "      <td>689</td>\n",
       "      <td>3</td>\n",
       "      <td>28.959999</td>\n",
       "      <td>3.84</td>\n",
       "      <td>9.65</td>\n",
       "      <td>1.28</td>\n",
       "    </tr>\n",
       "    <tr>\n",
       "      <th>1895</th>\n",
       "      <td>1897</td>\n",
       "      <td>1</td>\n",
       "      <td>19.580000</td>\n",
       "      <td>0.98</td>\n",
       "      <td>19.58</td>\n",
       "      <td>0.98</td>\n",
       "    </tr>\n",
       "    <tr>\n",
       "      <th>493</th>\n",
       "      <td>494</td>\n",
       "      <td>1</td>\n",
       "      <td>8.170000</td>\n",
       "      <td>0.25</td>\n",
       "      <td>8.17</td>\n",
       "      <td>0.25</td>\n",
       "    </tr>\n",
       "  </tbody>\n",
       "</table>\n",
       "<p>2098 rows × 6 columns</p>\n",
       "</div>"
      ],
      "text/plain": [
       "      household_key  total_orders   total_spend  total_discount  \\\n",
       "1607           1609           412  27859.679688         2509.68   \n",
       "1451           1453           761  21661.289062         2880.00   \n",
       "1428           1430           344  20352.990234         2491.62   \n",
       "717             718           599  19299.859375         4131.39   \n",
       "706             707           498  19194.419922         2193.94   \n",
       "...             ...           ...           ...             ...   \n",
       "10               11             5     33.389999           10.98   \n",
       "521             522             3     29.340000            0.29   \n",
       "688             689             3     28.959999            3.84   \n",
       "1895           1897             1     19.580000            0.98   \n",
       "493             494             1      8.170000            0.25   \n",
       "\n",
       "      avg_order_spend  avg_order_discount  \n",
       "1607            67.62                6.09  \n",
       "1451            28.46                3.78  \n",
       "1428            59.17                7.24  \n",
       "717             32.22                6.90  \n",
       "706             38.54                4.41  \n",
       "...               ...                 ...  \n",
       "10               6.68                2.20  \n",
       "521              9.78                0.10  \n",
       "688              9.65                1.28  \n",
       "1895            19.58                0.98  \n",
       "493              8.17                0.25  \n",
       "\n",
       "[2098 rows x 6 columns]"
      ]
     },
     "execution_count": 295,
     "metadata": {},
     "output_type": "execute_result"
    }
   ],
   "source": [
    "household_spending = (transactions.groupby(\"household_key\")\n",
    "                      .agg(total_orders = ('basket_id','nunique'),\n",
    "                           total_spend = (\"sales_value\",\"sum\"),\n",
    "                           total_discount = (\"total_discount\",\"sum\"),\n",
    "                           )\n",
    "                      .reset_index()\n",
    "                     )\n",
    "\n",
    "household_spending = household_spending.assign(\n",
    "                            avg_order_spend = (household_spending['total_spend']/household_spending['total_orders']).round(2),\n",
    "                            avg_order_discount = (household_spending['total_discount']/household_spending['total_orders']).round(2),\n",
    "                            )\n",
    "\n",
    "household_spending = household_spending.sort_values(by='total_spend', ascending=False)\n",
    "\n",
    "household_spending.to_csv(\"../results/household_spending.csv\", index=False) # saved for further analysis\n",
    "\n",
    "household_spending"
   ]
  },
  {
   "cell_type": "markdown",
   "id": "7a841f38",
   "metadata": {},
   "source": [
    "#### Household Segmentation by Spending "
   ]
  },
  {
   "cell_type": "code",
   "execution_count": 249,
   "id": "f63ce561",
   "metadata": {},
   "outputs": [],
   "source": [
    "# Spending Segmentation\n",
    "household_spending['spending_category'] = pd.qcut(household_spending['total_spend'], q=4, labels=['Low', 'Medium', 'High', 'Very High'])"
   ]
  },
  {
   "cell_type": "code",
   "execution_count": 260,
   "id": "720f1906",
   "metadata": {},
   "outputs": [
    {
     "data": {
      "image/png": "[encoded data removed]",
      "text/plain": [
       "<Figure size 640x480 with 1 Axes>"
      ]
     },
     "metadata": {},
     "output_type": "display_data"
    }
   ],
   "source": [
    "# count each spending_category\n",
    "category_counts = household_spending['spending_category'].value_counts()\n",
    "\n",
    "# Create a figure and axis\n",
    "fig, ax = plt.subplots()\n",
    "\n",
    "# Create a bar chart\n",
    "bars = ax.bar(category_counts.index, category_counts.values)\n",
    "\n",
    "# Set the title and labels\n",
    "ax.set_title('Number of Households in Each Spending Category')\n",
    "ax.set_xlabel('Spending Category')\n",
    "ax.set_ylabel('Number of Households')\n",
    "\n",
    "# Add numbers at the top of each bar\n",
    "for bar in bars:\n",
    "    yval = bar.get_height()\n",
    "    ax.text(bar.get_x() + bar.get_width() / 2, yval, int(yval), \n",
    "            ha='center', va='bottom')\n",
    "\n",
    "# Show the plot\n",
    "plt.show()"
   ]
  },
  {
   "cell_type": "markdown",
   "id": "08ad581c",
   "metadata": {},
   "source": [
    "### Insights from the Graph:\n",
    "1. **Uniform Distribution**: The number of households in each spending category (`Low`, `Very High`, `Medium`, `High`) is almost evenly distributed, with only minor differences in counts.\n",
    "2. **Equal High Counts**: Both `Low` and `Very High` spending categories have the highest counts at 525 households each, suggesting that a significant portion of households either spend very little or spend a lot.\n",
    "3. **Balanced Spending Categories**: The slight difference between `Medium` and `High` categories, both around 524 households, indicates a balanced distribution of spending habits.\n",
    "\n",
    "### Recommendations for Business Decision-Making:\n",
    "1. **Targeted Marketing**:\n",
    "   - **Low Spending Households**: Develop marketing strategies to encourage higher spending, such as promotions or discounts on frequently purchased items.\n",
    "   - **Very High Spending Households**: Introduce loyalty programs or premium services to retain these high-value customers and encourage continued spending.\n",
    "   \n",
    "2. **Product Offerings**:\n",
    "   - **Diversify Products**: Ensure a wide range of products is available to cater to the different spending habits. For `Low` spenders, focus on value-for-money options. For `Very High` spenders, consider introducing exclusive or premium products.\n",
    "   \n",
    "3. **Customer Segmentation**:\n",
    "   - **Personalized Engagement**: Use customer segmentation to tailor communication and offers based on spending categories. Personalized messages can improve engagement and sales.\n",
    "\n",
    "4. **Incentivize Middle Categories**:\n",
    "   - For households in `Medium` and `High` categories, consider incentives to shift them into the `Very High` category, such as bundle offers or cashback on higher spend thresholds.\n",
    "\n",
    "5. **Retention Programs**:\n",
    "   - Implement retention strategies across all categories to maintain the customer base. For `Low` spenders, focus on engagement strategies to increase brand loyalty, while for `High` and `Very High`, emphasize exclusive benefits.\n",
    "\n"
   ]
  },
  {
   "cell_type": "markdown",
   "id": "d3ab1f87-4669-4725-809a-1d37fe3702f0",
   "metadata": {},
   "source": [
    "#### Order Frequency Analysis"
   ]
  },
  {
   "cell_type": "code",
   "execution_count": 266,
   "id": "a043af87-7f94-40a5-913b-728340ce5eb0",
   "metadata": {},
   "outputs": [
    {
     "data": {
      "image/png": "[encoded data removed]",
      "text/plain": [
       "<Figure size 800x500 with 1 Axes>"
      ]
     },
     "metadata": {},
     "output_type": "display_data"
    }
   ],
   "source": [
    "import matplotlib.pyplot as plt\n",
    "\n",
    "# Create a figure and axis\n",
    "fig, ax = plt.subplots(figsize=(8, 5))\n",
    "\n",
    "# Plot the histogram\n",
    "ax.hist(household_spending['total_orders'], bins=30, color='orange', edgecolor='black')\n",
    "\n",
    "# Set the title and labels\n",
    "ax.set_title('Distribution of Total Orders per Household')\n",
    "ax.set_xlabel('Total Orders')\n",
    "ax.set_ylabel('Number of Households')\n",
    "\n",
    "# Show the plot\n",
    "plt.show()\n"
   ]
  },
  {
   "cell_type": "markdown",
   "id": "c9cddf4b-04c3-4232-b6d9-f3470fde768f",
   "metadata": {},
   "source": [
    "### Insights from the Graph:\n",
    "1. **Right-Skewed Distribution**: The histogram shows a right-skewed distribution, indicating that most households have a relatively low number of total orders, with a small number of households placing a significantly higher number of orders.\n",
    "2. **Majority with Low Orders**: A large number of households have fewer than 200 total orders, with the highest concentration around 0-50 orders.\n",
    "3. **Long Tail**: There are a few households with very high total orders, extending up to over 1200 orders, suggesting a minority of highly frequent buyers.\n",
    "\n",
    "### Recommendations for Business Decision-Making:\n",
    "1. **Target Low-Order Households**:\n",
    "   - **Engagement Campaigns**: Implement campaigns to encourage households with low total orders to increase their purchasing frequency. This could include personalized promotions, discounts on repeat purchases, or reminders for reordering commonly bought items.\n",
    "   \n",
    "2. **Retention of High-Order Households**:\n",
    "   - **Loyalty Programs**: For households with high total orders, introduce or enhance loyalty programs to retain these valuable customers. Offer exclusive benefits, rewards, or personalized services to keep them engaged and loyal.\n",
    "   \n",
    "3. **Analyze High-Frequency Buyers**:\n",
    "   - **Behavior Analysis**: Study the purchasing behavior of high-frequency buyers to identify patterns or preferences. Use these insights to develop targeted marketing strategies or product recommendations for other customers.\n",
    "   \n",
    "4. **Improve Order Experience**:\n",
    "   - **Streamline Ordering**: Simplify the ordering process for households to encourage more frequent purchases. This could involve enhancing the user experience on digital platforms, offering one-click reordering, or optimizing delivery options.\n",
    "   \n",
    "5. **Segmented Marketing**:\n",
    "   - **Personalized Offers**: Use the data to segment customers by order frequency and tailor marketing efforts accordingly. Low-order households could receive incentives to increase order frequency, while high-order households could be targeted with premium offers or early access to new products.\n",
    "\n"
   ]
  },
  {
   "cell_type": "markdown",
   "id": "61316a54",
   "metadata": {},
   "source": [
    "#### Discount Utilization"
   ]
  },
  {
   "cell_type": "code",
   "execution_count": 268,
   "id": "f5f548c3",
   "metadata": {},
   "outputs": [
    {
     "data": {
      "image/png": "[encoded data removed]",
      "text/plain": [
       "<Figure size 800x500 with 1 Axes>"
      ]
     },
     "metadata": {},
     "output_type": "display_data"
    }
   ],
   "source": [
    "import matplotlib.pyplot as plt\n",
    "import seaborn as sns\n",
    "\n",
    "# Create a figure and axis\n",
    "fig, ax = plt.subplots(figsize=(8, 5))\n",
    "\n",
    "# Plot the scatter plot using Seaborn with the ax parameter\n",
    "sns.scatterplot(data=household_spending, x='avg_order_discount', y='avg_order_spend', color='blue', ax=ax)\n",
    "\n",
    "# Set the title and labels\n",
    "ax.set_title('Average Order Discount vs. Average Order Spend')\n",
    "ax.set_xlabel('Average Order Discount ($)')\n",
    "ax.set_ylabel('Average Order Spend ($)')\n",
    "\n",
    "# Show the plot\n",
    "plt.show()\n"
   ]
  },
  {
   "cell_type": "markdown",
   "id": "78701ba0",
   "metadata": {},
   "source": [
    "### Insights from the Graph:\n",
    "1. **Positive Correlation**: There is a general trend suggesting a positive correlation between average order discount and average order spend. As discounts increase, the average order spend tends to increase as well.\n",
    "2. **Clustering at Lower Discounts**: Most of the data points are clustered at lower average discounts (0 to 10 dollars), with corresponding average order spends generally under 60 dollars.\n",
    "3. **Outliers**: There are a few outliers with high average order discounts (above 20 dollars) and high average order spends, indicating that for some households, significant discounts lead to substantially higher spending.\n",
    "\n",
    "### Recommendations for Business Decision-Making:\n",
    "1. **Optimize Discount Strategies**:\n",
    "   - **Moderate Discounts**: Since most households cluster at lower discount levels, consider offering moderate discounts to encourage higher spending without significantly eroding margins.\n",
    "   \n",
    "2. **Targeted Promotions**:\n",
    "   - **High-Spend Segments**: For households that respond well to higher discounts, targeted promotions could be deployed to maximize order values. This could be done through personalized offers based on past purchasing behavior.\n",
    "   \n",
    "3. **Balance Discount and Spend**:\n",
    "   - **Avoid Excessive Discounting**: While higher discounts may increase spending, it is essential to analyze the profitability. Avoid excessive discounting that might erode profit margins unless it leads to a substantial increase in order volume or long-term customer value.\n",
    "   \n",
    "4. **Behavioral Segmentation**:\n",
    "   - **Segment Analysis**: Further analyze customer segments that respond differently to discounts. This can help in tailoring discounts to specific customer groups, optimizing the effectiveness of promotional strategies.\n",
    "   \n",
    "5. **Encourage Higher Spending with Thresholds**:\n",
    "   - **Discount Thresholds**: Implement discount thresholds where customers must spend a minimum amount to receive a discount. This strategy can encourage customers to increase their order size to qualify for a discount, thereby increasing overall revenue.\n",
    "\n",
    "By leveraging these insights, businesses can fine-tune their discount strategies to encourage higher spending while maintaining profitability.\n"
   ]
  },
  {
   "cell_type": "markdown",
   "id": "1fafc7ab",
   "metadata": {},
   "source": [
    "#### Average Order Value (AOV) Analysis"
   ]
  },
  {
   "cell_type": "code",
   "execution_count": 271,
   "id": "c8d72449",
   "metadata": {},
   "outputs": [
    {
     "data": {
      "image/png": "[encoded data removed]",
      "text/plain": [
       "<Figure size 800x500 with 1 Axes>"
      ]
     },
     "metadata": {},
     "output_type": "display_data"
    }
   ],
   "source": [
    "import matplotlib.pyplot as plt\n",
    "\n",
    "# Create a figure and axis\n",
    "fig, ax = plt.subplots(figsize=(8, 5))\n",
    "\n",
    "# Plot the histogram on the axis\n",
    "ax.hist(household_spending['avg_order_spend'], bins=30, color='purple', edgecolor='black')\n",
    "\n",
    "# Set the title and labels\n",
    "ax.set_title('Distribution of Average Order Value per Household')\n",
    "ax.set_xlabel('Average Order Spend ($)')\n",
    "ax.set_ylabel('Number of Households')\n",
    "\n",
    "# Show the plot\n",
    "plt.show()\n"
   ]
  },
  {
   "cell_type": "markdown",
   "id": "1ad77940",
   "metadata": {},
   "source": [
    "### Insights from the Graph:\n",
    "1. **Right-Skewed Distribution**: The distribution of average order spend per household is right-skewed, with the majority of households having an average order spend between $10 and $50. This indicates that most households tend to spend within this range per order.\n",
    "2. **Few High-Spend Households**: There are fewer households with a high average order spend, with some outliers spending significantly more (above $100 per order). These could represent premium or high-value customers.\n",
    "3. **Concentration Around Lower Values**: A large concentration of households has an average order spend around $20 to $30, suggesting this is the common spending range.\n",
    "\n",
    "### Recommendations for Business Decision-Making :\n",
    "1. **Identify Premium Customers**:\n",
    "   - **High-Spend Segment**: Focus on identifying and understanding the characteristics of households with high average order spends. These customers might be more receptive to premium products, exclusive offers, or loyalty programs.\n",
    "   \n",
    "2. **Upselling and Cross-Selling Opportunities**:\n",
    "   - **Increase Average Order Value**: For households in the mid-range of the distribution, consider strategies like upselling or cross-selling to encourage them to increase their average order spend. This could include bundle offers, discounts on larger orders, or personalized recommendations.\n",
    "   \n",
    "3. **Segmented Marketing Campaigns**:\n",
    "   - **Targeted Promotions**: Use the distribution data to create segmented marketing campaigns. For example, offer discounts or special deals to low-spending households to encourage higher spending, while providing exclusive benefits or premium services to high-spending households.\n",
    "   \n",
    "4. **Product Pricing and Assortment**:\n",
    "   - **Optimize Pricing**: Consider reviewing the pricing strategy to ensure it aligns with the spending behavior of the majority of households. Offering products in the $20-$50 range might align well with the observed spending pattern.\n",
    "   \n",
    "5. **Customer Retention Strategies**:\n",
    "   - **Retention Programs**: Develop customer retention programs targeting both mid and high spenders to maintain and potentially increase their spending levels. Loyalty programs or rewards could be effective in achieving this.\n",
    "\n",
    "By leveraging these insights, businesses can tailor their strategies to maximize revenue, enhance customer satisfaction, and build long-term customer relationships.\n"
   ]
  },
  {
   "cell_type": "markdown",
   "id": "38143a09",
   "metadata": {},
   "source": [
    "#### Top Households by Spending"
   ]
  },
  {
   "cell_type": "code",
   "execution_count": 296,
   "id": "3bb9b69f",
   "metadata": {},
   "outputs": [
    {
     "data": {
      "text/html": [
       "<div>\n",
       "<style scoped>\n",
       "    .dataframe tbody tr th:only-of-type {\n",
       "        vertical-align: middle;\n",
       "    }\n",
       "\n",
       "    .dataframe tbody tr th {\n",
       "        vertical-align: top;\n",
       "    }\n",
       "\n",
       "    .dataframe thead th {\n",
       "        text-align: right;\n",
       "    }\n",
       "</style>\n",
       "<table border=\"1\" class=\"dataframe\">\n",
       "  <thead>\n",
       "    <tr style=\"text-align: right;\">\n",
       "      <th></th>\n",
       "      <th>household_key</th>\n",
       "      <th>total_spend</th>\n",
       "    </tr>\n",
       "  </thead>\n",
       "  <tbody>\n",
       "    <tr>\n",
       "      <th>0</th>\n",
       "      <td>1609</td>\n",
       "      <td>27859.679688</td>\n",
       "    </tr>\n",
       "    <tr>\n",
       "      <th>1</th>\n",
       "      <td>1453</td>\n",
       "      <td>21661.289062</td>\n",
       "    </tr>\n",
       "    <tr>\n",
       "      <th>2</th>\n",
       "      <td>1430</td>\n",
       "      <td>20352.990234</td>\n",
       "    </tr>\n",
       "    <tr>\n",
       "      <th>3</th>\n",
       "      <td>718</td>\n",
       "      <td>19299.859375</td>\n",
       "    </tr>\n",
       "    <tr>\n",
       "      <th>4</th>\n",
       "      <td>707</td>\n",
       "      <td>19194.419922</td>\n",
       "    </tr>\n",
       "    <tr>\n",
       "      <th>5</th>\n",
       "      <td>1653</td>\n",
       "      <td>19153.750000</td>\n",
       "    </tr>\n",
       "    <tr>\n",
       "      <th>6</th>\n",
       "      <td>1111</td>\n",
       "      <td>18894.720703</td>\n",
       "    </tr>\n",
       "    <tr>\n",
       "      <th>7</th>\n",
       "      <td>982</td>\n",
       "      <td>18790.339844</td>\n",
       "    </tr>\n",
       "    <tr>\n",
       "      <th>8</th>\n",
       "      <td>400</td>\n",
       "      <td>18494.140625</td>\n",
       "    </tr>\n",
       "    <tr>\n",
       "      <th>9</th>\n",
       "      <td>1229</td>\n",
       "      <td>18304.310547</td>\n",
       "    </tr>\n",
       "  </tbody>\n",
       "</table>\n",
       "</div>"
      ],
      "text/plain": [
       "   household_key   total_spend\n",
       "0           1609  27859.679688\n",
       "1           1453  21661.289062\n",
       "2           1430  20352.990234\n",
       "3            718  19299.859375\n",
       "4            707  19194.419922\n",
       "5           1653  19153.750000\n",
       "6           1111  18894.720703\n",
       "7            982  18790.339844\n",
       "8            400  18494.140625\n",
       "9           1229  18304.310547"
      ]
     },
     "execution_count": 296,
     "metadata": {},
     "output_type": "execute_result"
    }
   ],
   "source": [
    "top_10_households = household_spending[[\"household_key\",\"total_spend\"]].head(10).reset_index(drop=True)\n",
    "\n",
    "top_10_households"
   ]
  },
  {
   "cell_type": "code",
   "execution_count": 304,
   "id": "e8a18595",
   "metadata": {},
   "outputs": [
    {
     "data": {
      "text/plain": [
       "<Axes: xlabel='household_key'>"
      ]
     },
     "execution_count": 304,
     "metadata": {},
     "output_type": "execute_result"
    },
    {
     "data": {
      "image/png": "[encoded data removed]",
      "text/plain": [
       "<Figure size 640x480 with 1 Axes>"
      ]
     },
     "metadata": {},
     "output_type": "display_data"
    }
   ],
   "source": [
    "top_10_households.plot.bar(x=\"household_key\",y=\"total_spend\", rot=45)"
   ]
  },
  {
   "cell_type": "code",
   "execution_count": 308,
   "id": "3fc04a67",
   "metadata": {},
   "outputs": [
    {
     "data": {
      "image/png": "[encoded data removed]",
      "text/plain": [
       "<Figure size 800x500 with 1 Axes>"
      ]
     },
     "metadata": {},
     "output_type": "display_data"
    }
   ],
   "source": [
    "top_10_households = household_spending[[\"household_key\",\"total_spend\"]].head(10).reset_index(drop=True)\n",
    "\n",
    "\n",
    "ax = top_10_households.plot.bar(x=\"household_key\",y=\"total_spend\", figsize=(, 4),rot=45, legend=False)\n",
    "\n",
    "# Set the title and labels\n",
    "ax.set_title('Top 10 Households by Total Spend')\n",
    "ax.set_xlabel('Household Key')\n",
    "ax.set_ylabel('Total Spend ($)')\n",
    "\n",
    "\n",
    "# Show the plot\n",
    "plt.show()\n"
   ]
  },
  {
   "cell_type": "code",
   "execution_count": null,
   "id": "1e8f0315",
   "metadata": {},
   "outputs": [],
   "source": []
  },
  {
   "cell_type": "code",
   "execution_count": null,
   "id": "39b1bcf9",
   "metadata": {},
   "outputs": [],
   "source": []
  },
  {
   "cell_type": "code",
   "execution_count": null,
   "id": "cbe29ff4",
   "metadata": {},
   "outputs": [],
   "source": []
  },
  {
   "cell_type": "code",
   "execution_count": null,
   "id": "a3976868",
   "metadata": {},
   "outputs": [],
   "source": []
  },
  {
   "cell_type": "markdown",
   "id": "1845c7bc-7413-4009-9f51-9218e5a4b122",
   "metadata": {},
   "source": [
    "# DEMOGRAPHICS\n",
    "\n",
    "* Read in the `hh_demographic.csv` file, but only the columns `AGE_DESC`, `INCOME_DESC`, `household_key`, and `HH_COMP_DESC`. Convert the appropriate columns to the category dtype.\n",
    "\n",
    "\n",
    "* Then group the transactions table by household_id, and calculate the sum of SALES VALUE by household.\n",
    "\n",
    "\n",
    "* Once you've done that, join the demographics DataFrame to the aggregated transactions table. Since we're interested in analyzing the demographic data we have, make sure not to include rows from transactions that don't match.\n",
    "\n",
    "\n",
    "* Plot the sum of sales by age_desc and income_desc (in separate charts).\n",
    "\n",
    "\n",
    "* Then, create a pivot table of the mean household sales by `AGE_DESC` and `HH_COMP_DESC`. Which of our demographics have the highest average sales?\n"
   ]
  },
  {
   "cell_type": "code",
   "execution_count": null,
   "id": "581a1601",
   "metadata": {},
   "outputs": [],
   "source": []
  },
  {
   "cell_type": "code",
   "execution_count": 309,
   "id": "df7db886",
   "metadata": {},
   "outputs": [],
   "source": [
    "demographics = pd.read_csv(\"../data/hh_demographics.csv\")"
   ]
  },
  {
   "cell_type": "code",
   "execution_count": 312,
   "id": "7b7a0bbe-5718-413a-a586-8fa831d52b21",
   "metadata": {},
   "outputs": [
    {
     "data": {
      "text/html": [
       "<div>\n",
       "<style scoped>\n",
       "    .dataframe tbody tr th:only-of-type {\n",
       "        vertical-align: middle;\n",
       "    }\n",
       "\n",
       "    .dataframe tbody tr th {\n",
       "        vertical-align: top;\n",
       "    }\n",
       "\n",
       "    .dataframe thead th {\n",
       "        text-align: right;\n",
       "    }\n",
       "</style>\n",
       "<table border=\"1\" class=\"dataframe\">\n",
       "  <thead>\n",
       "    <tr style=\"text-align: right;\">\n",
       "      <th></th>\n",
       "      <th>household_key</th>\n",
       "      <th>total_orders</th>\n",
       "      <th>total_spend</th>\n",
       "      <th>total_discount</th>\n",
       "      <th>avg_order_spend</th>\n",
       "      <th>avg_order_discount</th>\n",
       "      <th>age_desc</th>\n",
       "      <th>marital_status_code</th>\n",
       "      <th>income_desc</th>\n",
       "      <th>homeowner_desc</th>\n",
       "      <th>hh_comp_desc</th>\n",
       "      <th>household_size_desc</th>\n",
       "      <th>kid_category_desc</th>\n",
       "    </tr>\n",
       "  </thead>\n",
       "  <tbody>\n",
       "    <tr>\n",
       "      <th>0</th>\n",
       "      <td>1609</td>\n",
       "      <td>412</td>\n",
       "      <td>27859.679688</td>\n",
       "      <td>2509.68</td>\n",
       "      <td>67.62</td>\n",
       "      <td>6.09</td>\n",
       "      <td>45-54</td>\n",
       "      <td>A</td>\n",
       "      <td>125-149K</td>\n",
       "      <td>Homeowner</td>\n",
       "      <td>2 Adults Kids</td>\n",
       "      <td>5+</td>\n",
       "      <td>3+</td>\n",
       "    </tr>\n",
       "    <tr>\n",
       "      <th>1</th>\n",
       "      <td>1453</td>\n",
       "      <td>761</td>\n",
       "      <td>21661.289062</td>\n",
       "      <td>2880.00</td>\n",
       "      <td>28.46</td>\n",
       "      <td>3.78</td>\n",
       "      <td>45-54</td>\n",
       "      <td>A</td>\n",
       "      <td>125-149K</td>\n",
       "      <td>Homeowner</td>\n",
       "      <td>2 Adults Kids</td>\n",
       "      <td>3</td>\n",
       "      <td>1</td>\n",
       "    </tr>\n",
       "    <tr>\n",
       "      <th>2</th>\n",
       "      <td>1430</td>\n",
       "      <td>344</td>\n",
       "      <td>20352.990234</td>\n",
       "      <td>2491.62</td>\n",
       "      <td>59.17</td>\n",
       "      <td>7.24</td>\n",
       "      <td>35-44</td>\n",
       "      <td>A</td>\n",
       "      <td>35-49K</td>\n",
       "      <td>Homeowner</td>\n",
       "      <td>2 Adults Kids</td>\n",
       "      <td>3</td>\n",
       "      <td>1</td>\n",
       "    </tr>\n",
       "    <tr>\n",
       "      <th>3</th>\n",
       "      <td>718</td>\n",
       "      <td>599</td>\n",
       "      <td>19299.859375</td>\n",
       "      <td>4131.39</td>\n",
       "      <td>32.22</td>\n",
       "      <td>6.90</td>\n",
       "      <td>45-54</td>\n",
       "      <td>A</td>\n",
       "      <td>25-34K</td>\n",
       "      <td>Homeowner</td>\n",
       "      <td>2 Adults Kids</td>\n",
       "      <td>5+</td>\n",
       "      <td>3+</td>\n",
       "    </tr>\n",
       "    <tr>\n",
       "      <th>4</th>\n",
       "      <td>707</td>\n",
       "      <td>498</td>\n",
       "      <td>19194.419922</td>\n",
       "      <td>2193.94</td>\n",
       "      <td>38.54</td>\n",
       "      <td>4.41</td>\n",
       "      <td>25-34</td>\n",
       "      <td>A</td>\n",
       "      <td>100-124K</td>\n",
       "      <td>Homeowner</td>\n",
       "      <td>2 Adults Kids</td>\n",
       "      <td>5+</td>\n",
       "      <td>3+</td>\n",
       "    </tr>\n",
       "  </tbody>\n",
       "</table>\n",
       "</div>"
      ],
      "text/plain": [
       "   household_key  total_orders   total_spend  total_discount  avg_order_spend  \\\n",
       "0           1609           412  27859.679688         2509.68            67.62   \n",
       "1           1453           761  21661.289062         2880.00            28.46   \n",
       "2           1430           344  20352.990234         2491.62            59.17   \n",
       "3            718           599  19299.859375         4131.39            32.22   \n",
       "4            707           498  19194.419922         2193.94            38.54   \n",
       "\n",
       "   avg_order_discount age_desc marital_status_code income_desc homeowner_desc  \\\n",
       "0                6.09    45-54                   A    125-149K      Homeowner   \n",
       "1                3.78    45-54                   A    125-149K      Homeowner   \n",
       "2                7.24    35-44                   A      35-49K      Homeowner   \n",
       "3                6.90    45-54                   A      25-34K      Homeowner   \n",
       "4                4.41    25-34                   A    100-124K      Homeowner   \n",
       "\n",
       "    hh_comp_desc household_size_desc kid_category_desc  \n",
       "0  2 Adults Kids                  5+                3+  \n",
       "1  2 Adults Kids                   3                 1  \n",
       "2  2 Adults Kids                   3                 1  \n",
       "3  2 Adults Kids                  5+                3+  \n",
       "4  2 Adults Kids                  5+                3+  "
      ]
     },
     "execution_count": 312,
     "metadata": {},
     "output_type": "execute_result"
    }
   ],
   "source": [
    "households_demographics_spending = pd.merge(household_spending, demographics, on='household_key', how='inner')\n",
    "\n",
    "households_demographics_spending.head()"
   ]
  },
  {
   "cell_type": "code",
   "execution_count": null,
   "id": "cb407e46-dca4-48a2-bcc2-00a86e4c2f80",
   "metadata": {},
   "outputs": [],
   "source": []
  },
  {
   "cell_type": "code",
   "execution_count": null,
   "id": "d777982e",
   "metadata": {},
   "outputs": [],
   "source": []
  },
  {
   "cell_type": "code",
   "execution_count": null,
   "id": "9d918c39",
   "metadata": {},
   "outputs": [],
   "source": []
  },
  {
   "cell_type": "code",
   "execution_count": null,
   "id": "7cb7d602",
   "metadata": {},
   "outputs": [],
   "source": []
  },
  {
   "cell_type": "code",
   "execution_count": null,
   "id": "842fef9a",
   "metadata": {},
   "outputs": [],
   "source": []
  },
  {
   "cell_type": "code",
   "execution_count": null,
   "id": "1976010d",
   "metadata": {},
   "outputs": [],
   "source": []
  },
  {
   "cell_type": "code",
   "execution_count": null,
   "id": "d55126f4",
   "metadata": {},
   "outputs": [],
   "source": []
  },
  {
   "cell_type": "code",
   "execution_count": null,
   "id": "9d533453",
   "metadata": {},
   "outputs": [],
   "source": []
  },
  {
   "cell_type": "code",
   "execution_count": null,
   "id": "fc0b976c",
   "metadata": {},
   "outputs": [],
   "source": []
  },
  {
   "cell_type": "code",
   "execution_count": null,
   "id": "f80b9412",
   "metadata": {},
   "outputs": [],
   "source": []
  },
  {
   "cell_type": "code",
   "execution_count": null,
   "id": "a365f9ac",
   "metadata": {},
   "outputs": [],
   "source": []
  },
  {
   "cell_type": "code",
   "execution_count": null,
   "id": "7f2b1799",
   "metadata": {},
   "outputs": [],
   "source": []
  },
  {
   "cell_type": "code",
   "execution_count": null,
   "id": "cbfd8fb8",
   "metadata": {},
   "outputs": [],
   "source": []
  },
  {
   "cell_type": "code",
   "execution_count": null,
   "id": "a443593c",
   "metadata": {},
   "outputs": [],
   "source": []
  },
  {
   "cell_type": "code",
   "execution_count": null,
   "id": "6d33dbfe",
   "metadata": {},
   "outputs": [],
   "source": []
  },
  {
   "cell_type": "code",
   "execution_count": null,
   "id": "b6fe59c8",
   "metadata": {},
   "outputs": [],
   "source": []
  },
  {
   "cell_type": "code",
   "execution_count": null,
   "id": "28e19f29",
   "metadata": {},
   "outputs": [],
   "source": []
  },
  {
   "cell_type": "code",
   "execution_count": null,
   "id": "b803a97c",
   "metadata": {},
   "outputs": [],
   "source": []
  },
  {
   "cell_type": "code",
   "execution_count": null,
   "id": "1ff37af5",
   "metadata": {},
   "outputs": [],
   "source": []
  },
  {
   "cell_type": "code",
   "execution_count": null,
   "id": "5bd43f40",
   "metadata": {},
   "outputs": [],
   "source": []
  },
  {
   "cell_type": "code",
   "execution_count": 85,
   "id": "2e9a5526-cbf2-42d9-9e09-a896062b0c02",
   "metadata": {},
   "outputs": [
    {
     "data": {
      "image/png": "[encoded data removed]",
      "text/plain": [
       "<Figure size 1800x1000 with 6 Axes>"
      ]
     },
     "metadata": {},
     "output_type": "display_data"
    }
   ],
   "source": [
    "import matplotlib.pyplot as plt\n",
    "\n",
    "# Define the figure and axes\n",
    "fig, axs = plt.subplots(3, 2, figsize=(18, 10))\n",
    "fig.suptitle('Total Spending by Various Demographics')\n",
    "\n",
    "# List of columns to plot and corresponding axes\n",
    "columns = ['age_desc', 'marital_status_code', 'income_desc', 'homeowner_desc', 'hh_comp_desc', 'household_size_desc']\n",
    "axes = axs.flatten()\n",
    "\n",
    "# Generate bar plots for each demographic feature\n",
    "for i, col in enumerate(columns):\n",
    "    households.groupby(col)['total_spend'].sum().plot(kind='bar', ax=axes[i])\n",
    "    axes[i].set_title(f'Total Spend by {col}')\n",
    "    axes[i].set_ylabel('Total Spend')\n",
    "    axes[i].set_xlabel(col)\n",
    "    axes[i].tick_params(axis='x', rotation=45)\n",
    "\n",
    "# Adjust layout to prevent overlap\n",
    "plt.tight_layout(rect=[0, 0.03, 1, 0.95])\n",
    "plt.show()\n"
   ]
  },
  {
   "cell_type": "code",
   "execution_count": 39,
   "id": "382ae96c-ebfa-47ee-80e2-8383c683e6df",
   "metadata": {},
   "outputs": [
    {
     "ename": "NameError",
     "evalue": "name 'households' is not defined",
     "output_type": "error",
     "traceback": [
      "\u001b[1;31m---------------------------------------------------------------------------\u001b[0m",
      "\u001b[1;31mNameError\u001b[0m                                 Traceback (most recent call last)",
      "Cell \u001b[1;32mIn[39], line 18\u001b[0m\n\u001b[0;32m     16\u001b[0m \u001b[38;5;28;01mfor\u001b[39;00m column, color \u001b[38;5;129;01min\u001b[39;00m columns_colors\u001b[38;5;241m.\u001b[39mitems():\n\u001b[0;32m     17\u001b[0m     plt\u001b[38;5;241m.\u001b[39mfigure(figsize\u001b[38;5;241m=\u001b[39m(\u001b[38;5;241m8\u001b[39m, \u001b[38;5;241m6\u001b[39m))\n\u001b[1;32m---> 18\u001b[0m     bar_plot \u001b[38;5;241m=\u001b[39m sns\u001b[38;5;241m.\u001b[39mbarplot(data\u001b[38;5;241m=\u001b[39m\u001b[43mhouseholds\u001b[49m, x\u001b[38;5;241m=\u001b[39mcolumn, y\u001b[38;5;241m=\u001b[39m\u001b[38;5;124m'\u001b[39m\u001b[38;5;124mtotal_spend\u001b[39m\u001b[38;5;124m'\u001b[39m, estimator\u001b[38;5;241m=\u001b[39mnp\u001b[38;5;241m.\u001b[39msum, errorbar\u001b[38;5;241m=\u001b[39m(\u001b[38;5;124m'\u001b[39m\u001b[38;5;124mci\u001b[39m\u001b[38;5;124m'\u001b[39m, \u001b[38;5;28;01mFalse\u001b[39;00m), color\u001b[38;5;241m=\u001b[39mcolor)\n\u001b[0;32m     20\u001b[0m     \u001b[38;5;66;03m# Add sum values above each bar with dollar sign and thousand separator\u001b[39;00m\n\u001b[0;32m     21\u001b[0m     \u001b[38;5;28;01mfor\u001b[39;00m p \u001b[38;5;129;01min\u001b[39;00m bar_plot\u001b[38;5;241m.\u001b[39mpatches:\n",
      "\u001b[1;31mNameError\u001b[0m: name 'households' is not defined"
     ]
    },
    {
     "data": {
      "text/plain": [
       "<Figure size 800x600 with 0 Axes>"
      ]
     },
     "metadata": {},
     "output_type": "display_data"
    }
   ],
   "source": [
    "import seaborn as sns\n",
    "import matplotlib.pyplot as plt\n",
    "import numpy as np\n",
    "\n",
    "# Define a dictionary of column names and colors\n",
    "columns_colors = {\n",
    "    'age_desc':'black',\n",
    "    'marital_status_code':'gray',\n",
    "    'income_desc': 'blue',\n",
    "    'homeowner_desc': 'brown',\n",
    "    'hh_comp_desc': 'purple',\n",
    "    'household_size_desc': 'orange'\n",
    "}\n",
    "\n",
    "# Plot each column in sequence\n",
    "for column, color in columns_colors.items():\n",
    "    plt.figure(figsize=(8, 6))\n",
    "    bar_plot = sns.barplot(data=households, x=column, y='total_spend', estimator=np.sum, errorbar=('ci', False), color=color)\n",
    "    \n",
    "    # Add sum values above each bar with dollar sign and thousand separator\n",
    "    for p in bar_plot.patches:\n",
    "        height = p.get_height()\n",
    "        bar_plot.annotate(f'${height:,.0f}', \n",
    "                          (p.get_x() + p.get_width() / 2., height), \n",
    "                          ha='center', va='bottom', fontsize=10, color='black')\n",
    "\n",
    "    # Set plot title and labels\n",
    "    plt.title(f'Total Spend by {column.replace(\"_\", \" \").title()}')\n",
    "    plt.xlabel(column.replace(\"_\", \" \").title())\n",
    "    plt.ylabel('Total Spend')\n",
    "    plt.xticks(rotation=45)\n",
    "    plt.tight_layout()\n",
    "    plt.show()\n"
   ]
  },
  {
   "cell_type": "code",
   "execution_count": 108,
   "id": "cf91c7f0-d513-4542-8f1a-930eab5a0171",
   "metadata": {},
   "outputs": [
    {
     "data": {
      "text/html": [
       "<div>\n",
       "<style scoped>\n",
       "    .dataframe tbody tr th:only-of-type {\n",
       "        vertical-align: middle;\n",
       "    }\n",
       "\n",
       "    .dataframe tbody tr th {\n",
       "        vertical-align: top;\n",
       "    }\n",
       "\n",
       "    .dataframe thead th {\n",
       "        text-align: right;\n",
       "    }\n",
       "</style>\n",
       "<table border=\"1\" class=\"dataframe\">\n",
       "  <thead>\n",
       "    <tr style=\"text-align: right;\">\n",
       "      <th></th>\n",
       "      <th>household_key</th>\n",
       "      <th>total_spend</th>\n",
       "      <th>total_orders</th>\n",
       "      <th>avg_order_spend</th>\n",
       "    </tr>\n",
       "  </thead>\n",
       "  <tbody>\n",
       "    <tr>\n",
       "      <th>1022</th>\n",
       "      <td>1023</td>\n",
       "      <td>38319.789062</td>\n",
       "      <td>603</td>\n",
       "      <td>63.55</td>\n",
       "    </tr>\n",
       "    <tr>\n",
       "      <th>1608</th>\n",
       "      <td>1609</td>\n",
       "      <td>27859.679688</td>\n",
       "      <td>412</td>\n",
       "      <td>67.62</td>\n",
       "    </tr>\n",
       "    <tr>\n",
       "      <th>1452</th>\n",
       "      <td>1453</td>\n",
       "      <td>21661.289062</td>\n",
       "      <td>761</td>\n",
       "      <td>28.46</td>\n",
       "    </tr>\n",
       "    <tr>\n",
       "      <th>1429</th>\n",
       "      <td>1430</td>\n",
       "      <td>20352.990234</td>\n",
       "      <td>344</td>\n",
       "      <td>59.17</td>\n",
       "    </tr>\n",
       "    <tr>\n",
       "      <th>717</th>\n",
       "      <td>718</td>\n",
       "      <td>19299.859375</td>\n",
       "      <td>599</td>\n",
       "      <td>32.22</td>\n",
       "    </tr>\n",
       "    <tr>\n",
       "      <th>706</th>\n",
       "      <td>707</td>\n",
       "      <td>19194.419922</td>\n",
       "      <td>498</td>\n",
       "      <td>38.54</td>\n",
       "    </tr>\n",
       "    <tr>\n",
       "      <th>1652</th>\n",
       "      <td>1653</td>\n",
       "      <td>19153.750000</td>\n",
       "      <td>541</td>\n",
       "      <td>35.40</td>\n",
       "    </tr>\n",
       "    <tr>\n",
       "      <th>1110</th>\n",
       "      <td>1111</td>\n",
       "      <td>18894.720703</td>\n",
       "      <td>321</td>\n",
       "      <td>58.86</td>\n",
       "    </tr>\n",
       "    <tr>\n",
       "      <th>981</th>\n",
       "      <td>982</td>\n",
       "      <td>18790.339844</td>\n",
       "      <td>412</td>\n",
       "      <td>45.61</td>\n",
       "    </tr>\n",
       "    <tr>\n",
       "      <th>399</th>\n",
       "      <td>400</td>\n",
       "      <td>18494.140625</td>\n",
       "      <td>310</td>\n",
       "      <td>59.66</td>\n",
       "    </tr>\n",
       "    <tr>\n",
       "      <th>1228</th>\n",
       "      <td>1229</td>\n",
       "      <td>18304.310547</td>\n",
       "      <td>385</td>\n",
       "      <td>47.54</td>\n",
       "    </tr>\n",
       "    <tr>\n",
       "      <th>1974</th>\n",
       "      <td>1975</td>\n",
       "      <td>17548.269531</td>\n",
       "      <td>363</td>\n",
       "      <td>48.34</td>\n",
       "    </tr>\n",
       "    <tr>\n",
       "      <th>327</th>\n",
       "      <td>328</td>\n",
       "      <td>17332.130859</td>\n",
       "      <td>239</td>\n",
       "      <td>72.52</td>\n",
       "    </tr>\n",
       "    <tr>\n",
       "      <th>1526</th>\n",
       "      <td>1527</td>\n",
       "      <td>17295.179688</td>\n",
       "      <td>321</td>\n",
       "      <td>53.88</td>\n",
       "    </tr>\n",
       "    <tr>\n",
       "      <th>1488</th>\n",
       "      <td>1489</td>\n",
       "      <td>17251.529297</td>\n",
       "      <td>536</td>\n",
       "      <td>32.19</td>\n",
       "    </tr>\n",
       "    <tr>\n",
       "      <th>1863</th>\n",
       "      <td>1864</td>\n",
       "      <td>16941.580078</td>\n",
       "      <td>164</td>\n",
       "      <td>103.30</td>\n",
       "    </tr>\n",
       "    <tr>\n",
       "      <th>899</th>\n",
       "      <td>900</td>\n",
       "      <td>16450.529297</td>\n",
       "      <td>1223</td>\n",
       "      <td>13.45</td>\n",
       "    </tr>\n",
       "    <tr>\n",
       "      <th>370</th>\n",
       "      <td>371</td>\n",
       "      <td>15716.540039</td>\n",
       "      <td>161</td>\n",
       "      <td>97.62</td>\n",
       "    </tr>\n",
       "    <tr>\n",
       "      <th>1761</th>\n",
       "      <td>1762</td>\n",
       "      <td>15360.139648</td>\n",
       "      <td>344</td>\n",
       "      <td>44.65</td>\n",
       "    </tr>\n",
       "    <tr>\n",
       "      <th>1994</th>\n",
       "      <td>1995</td>\n",
       "      <td>15332.429688</td>\n",
       "      <td>154</td>\n",
       "      <td>99.56</td>\n",
       "    </tr>\n",
       "  </tbody>\n",
       "</table>\n",
       "</div>"
      ],
      "text/plain": [
       "      household_key   total_spend  total_orders  avg_order_spend\n",
       "1022           1023  38319.789062           603            63.55\n",
       "1608           1609  27859.679688           412            67.62\n",
       "1452           1453  21661.289062           761            28.46\n",
       "1429           1430  20352.990234           344            59.17\n",
       "717             718  19299.859375           599            32.22\n",
       "706             707  19194.419922           498            38.54\n",
       "1652           1653  19153.750000           541            35.40\n",
       "1110           1111  18894.720703           321            58.86\n",
       "981             982  18790.339844           412            45.61\n",
       "399             400  18494.140625           310            59.66\n",
       "1228           1229  18304.310547           385            47.54\n",
       "1974           1975  17548.269531           363            48.34\n",
       "327             328  17332.130859           239            72.52\n",
       "1526           1527  17295.179688           321            53.88\n",
       "1488           1489  17251.529297           536            32.19\n",
       "1863           1864  16941.580078           164           103.30\n",
       "899             900  16450.529297          1223            13.45\n",
       "370             371  15716.540039           161            97.62\n",
       "1761           1762  15360.139648           344            44.65\n",
       "1994           1995  15332.429688           154            99.56"
      ]
     },
     "execution_count": 108,
     "metadata": {},
     "output_type": "execute_result"
    }
   ],
   "source": [
    "top_20_household = household_spending.head(20)\n",
    "top_20_household"
   ]
  },
  {
   "cell_type": "code",
   "execution_count": 109,
   "id": "c1b26616-f8e8-49bb-9d24-b78e936652d7",
   "metadata": {},
   "outputs": [
    {
     "data": {
      "image/png": "[encoded data removed]",
      "text/plain": [
       "<Figure size 600x200 with 1 Axes>"
      ]
     },
     "metadata": {},
     "output_type": "display_data"
    }
   ],
   "source": [
    "top_20_household.plot.bar(x = \"household_key\",\n",
    "                          y = \"total_spend\", \n",
    "                          figsize=(6,2),\n",
    "                          title = \"Top 20 Households: Total Spend\",\n",
    "                          legend=False);"
   ]
  },
  {
   "cell_type": "code",
   "execution_count": 110,
   "id": "9cc88142-1e35-4ab7-b2b2-e6dc7dc1ee6a",
   "metadata": {},
   "outputs": [
    {
     "data": {
      "image/png": "[encoded data removed]",
      "text/plain": [
       "<Figure size 600x200 with 1 Axes>"
      ]
     },
     "metadata": {},
     "output_type": "display_data"
    }
   ],
   "source": [
    "top_20_household.plot.bar(x = \"household_key\",\n",
    "                          y = \"avg_order_spend\", \n",
    "                          figsize=(6,2),\n",
    "                          title = \"Top 20 Households: Average Spend Per Order\",\n",
    "                          legend=False);"
   ]
  },
  {
   "cell_type": "markdown",
   "id": "f9f61085-f083-4f11-ad0a-a83c63715bab",
   "metadata": {},
   "source": [
    "##### Insight: \n",
    "\n",
    "Identify top-spending households and average spend, useful for targeting high-value customers."
   ]
  },
  {
   "cell_type": "markdown",
   "id": "6e978e96-98c7-41ce-b95d-5449abec9800",
   "metadata": {},
   "source": [
    "##### Sales Distribution"
   ]
  },
  {
   "cell_type": "code",
   "execution_count": 111,
   "id": "a56ee598-c581-414b-ad9f-67fe5f6e067c",
   "metadata": {
    "scrolled": true
   },
   "outputs": [
    {
     "data": {
      "image/png": "[encoded data removed]",
      "text/plain": [
       "<Figure size 600x200 with 1 Axes>"
      ]
     },
     "metadata": {},
     "output_type": "display_data"
    }
   ],
   "source": [
    "(transactions\n",
    " .groupby(\"household_key\")\n",
    " .agg({'sales_value': 'sum'})\n",
    " .plot.hist(title=\"Sales Value Distribtion (aggregated by household)\",legend=False,figsize=(6,2)));"
   ]
  },
  {
   "cell_type": "code",
   "execution_count": null,
   "id": "94da857d-6f57-436f-8b18-8f6684282d59",
   "metadata": {},
   "outputs": [],
   "source": []
  },
  {
   "cell_type": "markdown",
   "id": "731817f1-6719-4a30-af47-c9dd1444db57",
   "metadata": {},
   "source": [
    "#### Analyzing Discount Utilization by Household"
   ]
  },
  {
   "cell_type": "code",
   "execution_count": 45,
   "id": "f2f8c8d1-b588-400f-93d9-10294ee7ec5b",
   "metadata": {},
   "outputs": [
    {
     "data": {
      "text/html": [
       "<div>\n",
       "<style scoped>\n",
       "    .dataframe tbody tr th:only-of-type {\n",
       "        vertical-align: middle;\n",
       "    }\n",
       "\n",
       "    .dataframe tbody tr th {\n",
       "        vertical-align: top;\n",
       "    }\n",
       "\n",
       "    .dataframe thead th {\n",
       "        text-align: right;\n",
       "    }\n",
       "</style>\n",
       "<table border=\"1\" class=\"dataframe\">\n",
       "  <thead>\n",
       "    <tr style=\"text-align: right;\">\n",
       "      <th></th>\n",
       "      <th>household_key</th>\n",
       "      <th>total_discount</th>\n",
       "    </tr>\n",
       "  </thead>\n",
       "  <tbody>\n",
       "    <tr>\n",
       "      <th>366</th>\n",
       "      <td>367</td>\n",
       "      <td>-2623.49</td>\n",
       "    </tr>\n",
       "    <tr>\n",
       "      <th>1630</th>\n",
       "      <td>1631</td>\n",
       "      <td>-2625.84</td>\n",
       "    </tr>\n",
       "    <tr>\n",
       "      <th>66</th>\n",
       "      <td>67</td>\n",
       "      <td>-2704.10</td>\n",
       "    </tr>\n",
       "    <tr>\n",
       "      <th>1761</th>\n",
       "      <td>1762</td>\n",
       "      <td>-2727.85</td>\n",
       "    </tr>\n",
       "    <tr>\n",
       "      <th>512</th>\n",
       "      <td>513</td>\n",
       "      <td>-2731.97</td>\n",
       "    </tr>\n",
       "    <tr>\n",
       "      <th>370</th>\n",
       "      <td>371</td>\n",
       "      <td>-2733.73</td>\n",
       "    </tr>\n",
       "    <tr>\n",
       "      <th>629</th>\n",
       "      <td>630</td>\n",
       "      <td>-2773.76</td>\n",
       "    </tr>\n",
       "    <tr>\n",
       "      <th>1336</th>\n",
       "      <td>1337</td>\n",
       "      <td>-2846.29</td>\n",
       "    </tr>\n",
       "    <tr>\n",
       "      <th>1452</th>\n",
       "      <td>1453</td>\n",
       "      <td>-2880.00</td>\n",
       "    </tr>\n",
       "    <tr>\n",
       "      <th>2084</th>\n",
       "      <td>2085</td>\n",
       "      <td>-2950.70</td>\n",
       "    </tr>\n",
       "    <tr>\n",
       "      <th>1794</th>\n",
       "      <td>1795</td>\n",
       "      <td>-2995.68</td>\n",
       "    </tr>\n",
       "    <tr>\n",
       "      <th>18</th>\n",
       "      <td>19</td>\n",
       "      <td>-3064.44</td>\n",
       "    </tr>\n",
       "    <tr>\n",
       "      <th>1721</th>\n",
       "      <td>1722</td>\n",
       "      <td>-3247.18</td>\n",
       "    </tr>\n",
       "    <tr>\n",
       "      <th>252</th>\n",
       "      <td>253</td>\n",
       "      <td>-3295.96</td>\n",
       "    </tr>\n",
       "    <tr>\n",
       "      <th>978</th>\n",
       "      <td>979</td>\n",
       "      <td>-3304.62</td>\n",
       "    </tr>\n",
       "    <tr>\n",
       "      <th>388</th>\n",
       "      <td>389</td>\n",
       "      <td>-3370.62</td>\n",
       "    </tr>\n",
       "    <tr>\n",
       "      <th>933</th>\n",
       "      <td>934</td>\n",
       "      <td>-3433.62</td>\n",
       "    </tr>\n",
       "    <tr>\n",
       "      <th>1488</th>\n",
       "      <td>1489</td>\n",
       "      <td>-3960.38</td>\n",
       "    </tr>\n",
       "    <tr>\n",
       "      <th>717</th>\n",
       "      <td>718</td>\n",
       "      <td>-4131.39</td>\n",
       "    </tr>\n",
       "    <tr>\n",
       "      <th>1652</th>\n",
       "      <td>1653</td>\n",
       "      <td>-4300.25</td>\n",
       "    </tr>\n",
       "  </tbody>\n",
       "</table>\n",
       "</div>"
      ],
      "text/plain": [
       "      household_key  total_discount\n",
       "366             367        -2623.49\n",
       "1630           1631        -2625.84\n",
       "66               67        -2704.10\n",
       "1761           1762        -2727.85\n",
       "512             513        -2731.97\n",
       "370             371        -2733.73\n",
       "629             630        -2773.76\n",
       "1336           1337        -2846.29\n",
       "1452           1453        -2880.00\n",
       "2084           2085        -2950.70\n",
       "1794           1795        -2995.68\n",
       "18               19        -3064.44\n",
       "1721           1722        -3247.18\n",
       "252             253        -3295.96\n",
       "978             979        -3304.62\n",
       "388             389        -3370.62\n",
       "933             934        -3433.62\n",
       "1488           1489        -3960.38\n",
       "717             718        -4131.39\n",
       "1652           1653        -4300.25"
      ]
     },
     "metadata": {},
     "output_type": "display_data"
    },
    {
     "data": {
      "text/html": [
       "<div>\n",
       "<style scoped>\n",
       "    .dataframe tbody tr th:only-of-type {\n",
       "        vertical-align: middle;\n",
       "    }\n",
       "\n",
       "    .dataframe tbody tr th {\n",
       "        vertical-align: top;\n",
       "    }\n",
       "\n",
       "    .dataframe thead th {\n",
       "        text-align: right;\n",
       "    }\n",
       "</style>\n",
       "<table border=\"1\" class=\"dataframe\">\n",
       "  <thead>\n",
       "    <tr style=\"text-align: right;\">\n",
       "      <th></th>\n",
       "      <th>household_key</th>\n",
       "      <th>total_discount</th>\n",
       "    </tr>\n",
       "  </thead>\n",
       "  <tbody>\n",
       "    <tr>\n",
       "      <th>493</th>\n",
       "      <td>494</td>\n",
       "      <td>-0.25</td>\n",
       "    </tr>\n",
       "    <tr>\n",
       "      <th>521</th>\n",
       "      <td>522</td>\n",
       "      <td>-0.29</td>\n",
       "    </tr>\n",
       "    <tr>\n",
       "      <th>1896</th>\n",
       "      <td>1897</td>\n",
       "      <td>-0.98</td>\n",
       "    </tr>\n",
       "    <tr>\n",
       "      <th>656</th>\n",
       "      <td>657</td>\n",
       "      <td>-1.78</td>\n",
       "    </tr>\n",
       "    <tr>\n",
       "      <th>1385</th>\n",
       "      <td>1386</td>\n",
       "      <td>-1.95</td>\n",
       "    </tr>\n",
       "    <tr>\n",
       "      <th>1625</th>\n",
       "      <td>1626</td>\n",
       "      <td>-2.16</td>\n",
       "    </tr>\n",
       "    <tr>\n",
       "      <th>185</th>\n",
       "      <td>186</td>\n",
       "      <td>-3.78</td>\n",
       "    </tr>\n",
       "    <tr>\n",
       "      <th>688</th>\n",
       "      <td>689</td>\n",
       "      <td>-3.84</td>\n",
       "    </tr>\n",
       "    <tr>\n",
       "      <th>901</th>\n",
       "      <td>902</td>\n",
       "      <td>-5.32</td>\n",
       "    </tr>\n",
       "    <tr>\n",
       "      <th>1538</th>\n",
       "      <td>1539</td>\n",
       "      <td>-5.82</td>\n",
       "    </tr>\n",
       "    <tr>\n",
       "      <th>1875</th>\n",
       "      <td>1876</td>\n",
       "      <td>-6.36</td>\n",
       "    </tr>\n",
       "    <tr>\n",
       "      <th>378</th>\n",
       "      <td>379</td>\n",
       "      <td>-6.38</td>\n",
       "    </tr>\n",
       "    <tr>\n",
       "      <th>1726</th>\n",
       "      <td>1727</td>\n",
       "      <td>-6.39</td>\n",
       "    </tr>\n",
       "    <tr>\n",
       "      <th>1884</th>\n",
       "      <td>1885</td>\n",
       "      <td>-6.43</td>\n",
       "    </tr>\n",
       "    <tr>\n",
       "      <th>119</th>\n",
       "      <td>120</td>\n",
       "      <td>-6.75</td>\n",
       "    </tr>\n",
       "    <tr>\n",
       "      <th>499</th>\n",
       "      <td>500</td>\n",
       "      <td>-6.78</td>\n",
       "    </tr>\n",
       "    <tr>\n",
       "      <th>1169</th>\n",
       "      <td>1170</td>\n",
       "      <td>-7.05</td>\n",
       "    </tr>\n",
       "    <tr>\n",
       "      <th>445</th>\n",
       "      <td>446</td>\n",
       "      <td>-8.17</td>\n",
       "    </tr>\n",
       "    <tr>\n",
       "      <th>251</th>\n",
       "      <td>252</td>\n",
       "      <td>-8.47</td>\n",
       "    </tr>\n",
       "    <tr>\n",
       "      <th>1646</th>\n",
       "      <td>1647</td>\n",
       "      <td>-9.12</td>\n",
       "    </tr>\n",
       "  </tbody>\n",
       "</table>\n",
       "</div>"
      ],
      "text/plain": [
       "      household_key  total_discount\n",
       "493             494           -0.25\n",
       "521             522           -0.29\n",
       "1896           1897           -0.98\n",
       "656             657           -1.78\n",
       "1385           1386           -1.95\n",
       "1625           1626           -2.16\n",
       "185             186           -3.78\n",
       "688             689           -3.84\n",
       "901             902           -5.32\n",
       "1538           1539           -5.82\n",
       "1875           1876           -6.36\n",
       "378             379           -6.38\n",
       "1726           1727           -6.39\n",
       "1884           1885           -6.43\n",
       "119             120           -6.75\n",
       "499             500           -6.78\n",
       "1169           1170           -7.05\n",
       "445             446           -8.17\n",
       "251             252           -8.47\n",
       "1646           1647           -9.12"
      ]
     },
     "metadata": {},
     "output_type": "display_data"
    }
   ],
   "source": [
    "household_discounts = transactions.groupby('household_key')['total_discount'].sum().reset_index()\n",
    "\n",
    "household_discounts = household_discounts.sort_values(by='total_discount', ascending=False)\n",
    "\n",
    "bottom_20_household_discounts = household_discounts.head(20)\n",
    "\n",
    "top_20_household_discounts = household_discounts.tail(20)\n",
    "\n",
    "display(top_20_household_discounts, bottom_20_household_discounts)"
   ]
  },
  {
   "cell_type": "markdown",
   "id": "decf2d6b-de57-4c97-ba80-b3d98638301d",
   "metadata": {},
   "source": [
    "##### Insight: \n",
    "\n",
    "Determine households that benefit most from discounts, then conduct further study on the attributes of those households can inform discount strategies."
   ]
  },
  {
   "cell_type": "code",
   "execution_count": null,
   "id": "d8f7b69f-75a9-421d-84ca-568d67294818",
   "metadata": {},
   "outputs": [],
   "source": [
    "# merge the household_spending with the hh_demographics and conduct hypothesis testing t_ets or oneway anova test"
   ]
  },
  {
   "cell_type": "code",
   "execution_count": null,
   "id": "98a8fcfb-b20a-43eb-ac9e-8629ea1e831c",
   "metadata": {},
   "outputs": [],
   "source": []
  },
  {
   "cell_type": "code",
   "execution_count": null,
   "id": "3a84d26e-fbb4-47d1-bc87-7eaacf26c3e1",
   "metadata": {},
   "outputs": [],
   "source": []
  },
  {
   "cell_type": "code",
   "execution_count": null,
   "id": "0623e083-011a-484a-aa9b-65821c66bb9a",
   "metadata": {},
   "outputs": [],
   "source": []
  },
  {
   "cell_type": "code",
   "execution_count": null,
   "id": "6bcc09d7-6c50-47ab-b1a5-bedcd6e040f9",
   "metadata": {},
   "outputs": [],
   "source": []
  },
  {
   "cell_type": "markdown",
   "id": "a7e3a79d-5d6a-4708-9c37-f3351b35e561",
   "metadata": {},
   "source": [
    "### To be Discused"
   ]
  },
  {
   "cell_type": "code",
   "execution_count": 78,
   "id": "26680e77-e0a4-4592-8ac2-a6048dece104",
   "metadata": {},
   "outputs": [],
   "source": [
    "# import matplotlib.pyplot as plt\n",
    "\n",
    "# # Create figure and axis objects\n",
    "# fig, ax1 = plt.subplots()\n",
    "\n",
    "# # Plot the total_spend on the primary axis\n",
    "# ax1.bar(top_20_household['household_key'], top_20_household['total_spend'], color='blue', alpha=0.6, label='Total Spend')\n",
    "# ax1.set_xlabel('Household Key')\n",
    "# ax1.set_ylabel('Total Spend', color='blue')\n",
    "# # ax1.tick_params(axis='y', labelcolor='blue')\n",
    "\n",
    "# # # Create a secondary axis\n",
    "# # ax2 = ax1.twinx()\n",
    "# # ax2.bar(top_20_household['household_key'], top_20_household['avg_spend'], color='red', alpha=0.3, label='Average Spend')\n",
    "# # ax2.set_ylabel('Average Spend', color='red')\n",
    "# # ax2.tick_params(axis='y', labelcolor='red')\n",
    "\n",
    "# # Add a title and legend\n",
    "# plt.title('Top 20 Households Spending: Total and Average Spend')\n",
    "# ax1.legend(loc='upper left')\n",
    "# ax2.legend(loc='upper right')\n",
    "\n",
    "# # Show the plot\n",
    "# plt.show()\n"
   ]
  },
  {
   "cell_type": "code",
   "execution_count": null,
   "id": "80d7a7ec-cc91-445c-9fda-b6b94e9bd12e",
   "metadata": {},
   "outputs": [],
   "source": []
  },
  {
   "cell_type": "code",
   "execution_count": null,
   "id": "e192a96b-3c7e-4ece-b4ed-e5bdd1f2bbee",
   "metadata": {},
   "outputs": [],
   "source": []
  },
  {
   "cell_type": "code",
   "execution_count": null,
   "id": "243bde4d-8290-4a94-baed-19a87079de70",
   "metadata": {},
   "outputs": [],
   "source": []
  },
  {
   "cell_type": "code",
   "execution_count": null,
   "id": "d7535c2e-fdcc-4d5f-b1a7-47e300064a24",
   "metadata": {},
   "outputs": [],
   "source": []
  },
  {
   "cell_type": "code",
   "execution_count": null,
   "id": "c3dbf882-7f29-414a-b6f9-4293bab758c5",
   "metadata": {},
   "outputs": [],
   "source": []
  },
  {
   "cell_type": "code",
   "execution_count": null,
   "id": "81d01db9-7573-475a-a842-dd4644beb862",
   "metadata": {},
   "outputs": [],
   "source": []
  },
  {
   "cell_type": "code",
   "execution_count": null,
   "id": "8a34e6dd-c123-4d3d-9f0e-263f34fc8d18",
   "metadata": {},
   "outputs": [],
   "source": []
  },
  {
   "cell_type": "code",
   "execution_count": null,
   "id": "240a31fb-90e3-4011-ada8-469bee1d7954",
   "metadata": {},
   "outputs": [],
   "source": []
  },
  {
   "cell_type": "markdown",
   "id": "24204c05",
   "metadata": {},
   "source": [
    "## Product Analysis\n",
    "\n",
    "* Which products had the most sales by sales_value? Plot  a horizontal bar chart.\n",
    "* Did the top 10 selling items have a higher than average discount rate?\n",
    "* What was the most common `product_id` among rows with the households in our top 10 households by sales value?\n",
    "* Look up the names of the  top 10 products by sales in the `products.csv` dataset.\n",
    "* Look up the product name of the item that had the highest quantity sold in a single row."
   ]
  },
  {
   "cell_type": "markdown",
   "id": "39bbe0aa",
   "metadata": {},
   "source": [
    "Checking to see which prodduct is associated the largest quantity\n",
    "\n",
    "Findings:\n",
    "\n",
    "The product id is 6534178, and it comes with 5% discount rate, which is nice as the retailer does not lose much for this high vlume product"
   ]
  },
  {
   "cell_type": "code",
   "execution_count": 38,
   "id": "14c6abf6",
   "metadata": {},
   "outputs": [
    {
     "data": {
      "text/plain": [
       "household_key          6.300000e+02\n",
       "basket_id              3.474915e+10\n",
       "day                   -9.000000e+00\n",
       "product_id             6.534178e+06\n",
       "quantity               8.963800e+04\n",
       "sales_value            2.500000e+02\n",
       "store_id               3.840000e+02\n",
       "week_no                7.300000e+01\n",
       "total_discount         1.345000e+01\n",
       "percentage_discount    5.380000e-02\n",
       "Name: 1442095, dtype: float64"
      ]
     },
     "execution_count": 38,
     "metadata": {},
     "output_type": "execute_result"
    }
   ],
   "source": [
    "# Use to grab row with max value - discount rate is lower than average\n",
    "\n",
    "transactions.loc[transactions[\"quantity\"].argmax()]"
   ]
  },
  {
   "cell_type": "code",
   "execution_count": 32,
   "id": "b78a084a",
   "metadata": {},
   "outputs": [
    {
     "data": {
      "text/plain": [
       "<Axes: ylabel='Frequency'>"
      ]
     },
     "execution_count": 32,
     "metadata": {},
     "output_type": "execute_result"
    },
    {
     "data": {
      "image/png": "[encoded data removed]",
      "text/plain": [
       "<Figure size 640x480 with 1 Axes>"
      ]
     },
     "metadata": {},
     "output_type": "display_data"
    }
   ],
   "source": [
    "# plot distribution of households by total sales value\n",
    "# First groupby household and calculate sum of sales\n",
    "# then plot with a histogram\n",
    "\n",
    "(transactions\n",
    " .groupby(\"household_key\")\n",
    " .agg({'sales_value': 'sum'})\n",
    " .plot.hist())"
   ]
  },
  {
   "cell_type": "code",
   "execution_count": null,
   "id": "d09ad840",
   "metadata": {},
   "outputs": [],
   "source": []
  },
  {
   "cell_type": "markdown",
   "id": "a279c454",
   "metadata": {},
   "source": [
    "# Final Project\n",
    "\n",
    "Ok, so today we'll be working with the transactions, product, and hh_demographic tables in the project_data folder.\n",
    "\n",
    "* First, read in the transactions data.\n",
    "\n",
    "* Read in the only columns `household_key`, `basket_id`, `store_id`, `day`, `quantity`, and `sales_value`.\n",
    "\n",
    "* Convert `day`, `quantity`, and `store_id` to the smallest appropriate integer types.\n"
   ]
  },
  {
   "cell_type": "code",
   "execution_count": null,
   "id": "e57f5a81",
   "metadata": {},
   "outputs": [],
   "source": [
    "import pandas as pd\n",
    "import numpy as np"
   ]
  },
  {
   "cell_type": "code",
   "execution_count": null,
   "id": "c6fa5da7",
   "metadata": {},
   "outputs": [],
   "source": []
  },
  {
   "cell_type": "code",
   "execution_count": null,
   "id": "20d7e7ad",
   "metadata": {},
   "outputs": [],
   "source": []
  },
  {
   "cell_type": "code",
   "execution_count": null,
   "id": "6f0f87d1",
   "metadata": {},
   "outputs": [],
   "source": []
  },
  {
   "cell_type": "code",
   "execution_count": null,
   "id": "8c90a284",
   "metadata": {},
   "outputs": [],
   "source": [
    "# Use the following snippet to create a Date Column.\n",
    "\n",
    "transactions = (\n",
    "    transactions\n",
    "    .assign(date = (pd.to_datetime(\"2016\", format='%Y') \n",
    "            + pd.to_timedelta(transactions[\"day\"].sub(1).astype(str) + \" days\"))\n",
    "           )\n",
    "    .drop([\"day\"], axis=1)\n",
    ")"
   ]
  },
  {
   "cell_type": "markdown",
   "id": "64d2e67d",
   "metadata": {},
   "source": [
    "## TIME BASED ANALYSIS\n",
    "\n",
    "* Plot the sum of sales by month. Are sales growing over time?\n",
    "* Next, plot the same series after filtering down to dates April 2016 and October 2017.\n",
    "* Then, plot the sum of monthly sales in 2016 vs the monthly sales 2017.\n",
    "* Finally, plot total sales by day of week."
   ]
  },
  {
   "cell_type": "code",
   "execution_count": null,
   "id": "8a68946a",
   "metadata": {},
   "outputs": [],
   "source": []
  },
  {
   "cell_type": "code",
   "execution_count": null,
   "id": "d4253d37",
   "metadata": {},
   "outputs": [],
   "source": []
  },
  {
   "cell_type": "code",
   "execution_count": null,
   "id": "5ddf6a6a",
   "metadata": {
    "scrolled": true
   },
   "outputs": [],
   "source": []
  },
  {
   "cell_type": "code",
   "execution_count": null,
   "id": "cdfe4610",
   "metadata": {},
   "outputs": [],
   "source": []
  },
  {
   "cell_type": "markdown",
   "id": "59494494",
   "metadata": {},
   "source": []
  },
  {
   "cell_type": "code",
   "execution_count": null,
   "id": "b03da735",
   "metadata": {},
   "outputs": [],
   "source": []
  },
  {
   "cell_type": "code",
   "execution_count": null,
   "id": "7635afb0",
   "metadata": {
    "scrolled": true
   },
   "outputs": [],
   "source": []
  },
  {
   "cell_type": "code",
   "execution_count": null,
   "id": "9f1a2ee8",
   "metadata": {},
   "outputs": [],
   "source": []
  },
  {
   "cell_type": "code",
   "execution_count": null,
   "id": "ef63184f",
   "metadata": {},
   "outputs": [],
   "source": []
  },
  {
   "cell_type": "code",
   "execution_count": null,
   "id": "5a5d42c1",
   "metadata": {},
   "outputs": [],
   "source": []
  },
  {
   "cell_type": "code",
   "execution_count": null,
   "id": "ccd5bfe5",
   "metadata": {},
   "outputs": [],
   "source": []
  },
  {
   "cell_type": "code",
   "execution_count": null,
   "id": "ec18a861",
   "metadata": {},
   "outputs": [],
   "source": []
  },
  {
   "cell_type": "code",
   "execution_count": null,
   "id": "a847e93e",
   "metadata": {},
   "outputs": [],
   "source": []
  },
  {
   "cell_type": "code",
   "execution_count": null,
   "id": "196e806b",
   "metadata": {},
   "outputs": [],
   "source": []
  },
  {
   "cell_type": "code",
   "execution_count": null,
   "id": "8b3545c2",
   "metadata": {},
   "outputs": [],
   "source": []
  },
  {
   "cell_type": "code",
   "execution_count": null,
   "id": "2edc7c14",
   "metadata": {},
   "outputs": [],
   "source": []
  },
  {
   "cell_type": "markdown",
   "id": "5081f94d",
   "metadata": {},
   "source": [
    "# PRODUCT DEMOGRAPHICS\n",
    "\n",
    "* Read in the product csv file.\n",
    "\n",
    "* Only read in product_id and department from product (consider converting columns).\n",
    "\n",
    "* Join the product DataFrame to transactions and demographics tables, performing an inner join when joining both tables.\n",
    "\n",
    "* Finally, pivot the fully joined dataframe by AGE_DESC and DEPARTMENT, calculating the sum of sales. Which category does our youngest demographic perform well in?\n",
    "\n"
   ]
  },
  {
   "cell_type": "code",
   "execution_count": null,
   "id": "def3a4b1",
   "metadata": {},
   "outputs": [],
   "source": []
  },
  {
   "cell_type": "code",
   "execution_count": null,
   "id": "a498c9ab",
   "metadata": {},
   "outputs": [],
   "source": []
  },
  {
   "cell_type": "code",
   "execution_count": null,
   "id": "a314ac71",
   "metadata": {},
   "outputs": [],
   "source": []
  },
  {
   "cell_type": "code",
   "execution_count": null,
   "id": "65e3618f",
   "metadata": {},
   "outputs": [],
   "source": []
  },
  {
   "cell_type": "code",
   "execution_count": null,
   "id": "ed86759d",
   "metadata": {},
   "outputs": [],
   "source": []
  },
  {
   "cell_type": "markdown",
   "id": "c761f6ed",
   "metadata": {},
   "source": [
    "# EXPORT\n",
    "\n",
    "Finally, export your pivot table to an excel file. Make sure to provide a sheet name."
   ]
  },
  {
   "cell_type": "code",
   "execution_count": null,
   "id": "abfe3a77",
   "metadata": {},
   "outputs": [],
   "source": []
  }
 ],
 "metadata": {
  "kernelspec": {
   "display_name": "data_analysis",
   "language": "python",
   "name": "python3"
  },
  "language_info": {
   "codemirror_mode": {
    "name": "ipython",
    "version": 3
   },
   "file_extension": ".py",
   "mimetype": "text/x-python",
   "name": "python",
   "nbconvert_exporter": "python",
   "pygments_lexer": "ipython3",
   "version": "3.12.3"
  }
 },
 "nbformat": 4,
 "nbformat_minor": 5
}
